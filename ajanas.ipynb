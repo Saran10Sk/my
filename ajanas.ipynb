{
  "nbformat": 4,
  "nbformat_minor": 0,
  "metadata": {
    "colab": {
      "name": "anjans.ipynb",
      "provenance": [],
      "collapsed_sections": [],
      "toc_visible": true,
      "authorship_tag": "ABX9TyP9Uj3pTHLq+TkSww6cBl71",
      "include_colab_link": true
    },
    "kernelspec": {
      "name": "python3",
      "display_name": "Python 3"
    }
  },
  "cells": [
    {
      "cell_type": "markdown",
      "metadata": {
        "id": "view-in-github",
        "colab_type": "text"
      },
      "source": [
        "<a href=\"https://colab.research.google.com/github/Saran10Sk/my/blob/master/anjans.ipynb\" target=\"_parent\"><img src=\"https://colab.research.google.com/assets/colab-badge.svg\" alt=\"Open In Colab\"/></a>"
      ]
    },
    {
      "cell_type": "code",
      "metadata": {
        "id": "Y8Sz6V6HcT48",
        "colab_type": "code",
        "outputId": "87b77696-2cc7-422f-ea42-a0120c2a8306",
        "colab": {
          "base_uri": "https://localhost:8080/",
          "height": 122
        }
      },
      "source": [
        "from google.colab import drive\n",
        "drive.mount('/content/gdrive')"
      ],
      "execution_count": 1,
      "outputs": [
        {
          "output_type": "stream",
          "text": [
            "Go to this URL in a browser: https://accounts.google.com/o/oauth2/auth?client_id=947318989803-6bn6qk8qdgf4n4g3pfee6491hc0brc4i.apps.googleusercontent.com&redirect_uri=urn%3aietf%3awg%3aoauth%3a2.0%3aoob&response_type=code&scope=email%20https%3a%2f%2fwww.googleapis.com%2fauth%2fdocs.test%20https%3a%2f%2fwww.googleapis.com%2fauth%2fdrive%20https%3a%2f%2fwww.googleapis.com%2fauth%2fdrive.photos.readonly%20https%3a%2f%2fwww.googleapis.com%2fauth%2fpeopleapi.readonly\n",
            "\n",
            "Enter your authorization code:\n",
            "··········\n",
            "Mounted at /content/gdrive\n"
          ],
          "name": "stdout"
        }
      ]
    },
    {
      "cell_type": "code",
      "metadata": {
        "id": "5axCrdM3hySf",
        "colab_type": "code",
        "colab": {}
      },
      "source": [
        "import pandas as pd\n",
        "from pandas import DataFrame"
      ],
      "execution_count": 0,
      "outputs": []
    },
    {
      "cell_type": "code",
      "metadata": {
        "id": "ROThbSoYeppg",
        "colab_type": "code",
        "colab": {}
      },
      "source": [
        "data = pd.read_excel('/content/gdrive/My Drive/my_data/Data_Science_2020_v2.xlsx',engine='openpyxl')"
      ],
      "execution_count": 0,
      "outputs": []
    },
    {
      "cell_type": "code",
      "metadata": {
        "id": "HylAc5BUkGYc",
        "colab_type": "code",
        "outputId": "fec11132-3917-4a66-907b-3bbf271f1ee6",
        "colab": {
          "base_uri": "https://localhost:8080/",
          "height": 102
        }
      },
      "source": [
        "data.columns"
      ],
      "execution_count": 4,
      "outputs": [
        {
          "output_type": "execute_result",
          "data": {
            "text/plain": [
              "Index(['Application_ID', 'Current City', 'Python (out of 3)',\n",
              "       'R Programming (out of 3)', 'Data Science (out of 3)', 'Other skills',\n",
              "       'Institute', 'Degree', 'Stream', 'Current Year Of Graduation',\n",
              "       'Performance_PG', 'Performance_UG', 'Performance_12', 'Performance_10'],\n",
              "      dtype='object')"
            ]
          },
          "metadata": {
            "tags": []
          },
          "execution_count": 4
        }
      ]
    },
    {
      "cell_type": "code",
      "metadata": {
        "id": "Foq66HCQmwt3",
        "colab_type": "code",
        "outputId": "91fded14-afbb-4ebd-ea9f-5aa470868f25",
        "colab": {
          "base_uri": "https://localhost:8080/",
          "height": 419
        }
      },
      "source": [
        "data[['Degree','Current Year Of Graduation']]"
      ],
      "execution_count": 5,
      "outputs": [
        {
          "output_type": "execute_result",
          "data": {
            "text/html": [
              "<div>\n",
              "<style scoped>\n",
              "    .dataframe tbody tr th:only-of-type {\n",
              "        vertical-align: middle;\n",
              "    }\n",
              "\n",
              "    .dataframe tbody tr th {\n",
              "        vertical-align: top;\n",
              "    }\n",
              "\n",
              "    .dataframe thead th {\n",
              "        text-align: right;\n",
              "    }\n",
              "</style>\n",
              "<table border=\"1\" class=\"dataframe\">\n",
              "  <thead>\n",
              "    <tr style=\"text-align: right;\">\n",
              "      <th></th>\n",
              "      <th>Degree</th>\n",
              "      <th>Current Year Of Graduation</th>\n",
              "    </tr>\n",
              "  </thead>\n",
              "  <tbody>\n",
              "    <tr>\n",
              "      <th>0</th>\n",
              "      <td>Bachelor of Engineering (B.E)</td>\n",
              "      <td>2019</td>\n",
              "    </tr>\n",
              "    <tr>\n",
              "      <th>1</th>\n",
              "      <td>NaN</td>\n",
              "      <td>2020</td>\n",
              "    </tr>\n",
              "    <tr>\n",
              "      <th>2</th>\n",
              "      <td>Bachelor of Technology (B.Tech)</td>\n",
              "      <td>2018</td>\n",
              "    </tr>\n",
              "    <tr>\n",
              "      <th>3</th>\n",
              "      <td>Integrated M.Tech</td>\n",
              "      <td>2021</td>\n",
              "    </tr>\n",
              "    <tr>\n",
              "      <th>4</th>\n",
              "      <td>Bachelor of Engineering (B.E)</td>\n",
              "      <td>2018</td>\n",
              "    </tr>\n",
              "    <tr>\n",
              "      <th>...</th>\n",
              "      <td>...</td>\n",
              "      <td>...</td>\n",
              "    </tr>\n",
              "    <tr>\n",
              "      <th>606</th>\n",
              "      <td>Bachelor of Engineering (B.E)</td>\n",
              "      <td>2020</td>\n",
              "    </tr>\n",
              "    <tr>\n",
              "      <th>607</th>\n",
              "      <td>PG Diploma in Data Science</td>\n",
              "      <td>2020</td>\n",
              "    </tr>\n",
              "    <tr>\n",
              "      <th>608</th>\n",
              "      <td>Bachelor of Technology (B.Tech)</td>\n",
              "      <td>2016</td>\n",
              "    </tr>\n",
              "    <tr>\n",
              "      <th>609</th>\n",
              "      <td>Bachelor of Science (B.Sc)</td>\n",
              "      <td>2018</td>\n",
              "    </tr>\n",
              "    <tr>\n",
              "      <th>610</th>\n",
              "      <td>Master of Technology (M.Tech)</td>\n",
              "      <td>2016</td>\n",
              "    </tr>\n",
              "  </tbody>\n",
              "</table>\n",
              "<p>611 rows × 2 columns</p>\n",
              "</div>"
            ],
            "text/plain": [
              "                              Degree  Current Year Of Graduation\n",
              "0      Bachelor of Engineering (B.E)                        2019\n",
              "1                                NaN                        2020\n",
              "2    Bachelor of Technology (B.Tech)                        2018\n",
              "3                  Integrated M.Tech                        2021\n",
              "4      Bachelor of Engineering (B.E)                        2018\n",
              "..                               ...                         ...\n",
              "606    Bachelor of Engineering (B.E)                        2020\n",
              "607       PG Diploma in Data Science                        2020\n",
              "608  Bachelor of Technology (B.Tech)                        2016\n",
              "609       Bachelor of Science (B.Sc)                        2018\n",
              "610    Master of Technology (M.Tech)                        2016\n",
              "\n",
              "[611 rows x 2 columns]"
            ]
          },
          "metadata": {
            "tags": []
          },
          "execution_count": 5
        }
      ]
    },
    {
      "cell_type": "code",
      "metadata": {
        "id": "NsxSt8cIlyOc",
        "colab_type": "code",
        "colab": {}
      },
      "source": [
        "################program weightage#############################"
      ],
      "execution_count": 0,
      "outputs": []
    },
    {
      "cell_type": "code",
      "metadata": {
        "id": "QcB6yoXzmx0L",
        "colab_type": "code",
        "colab": {}
      },
      "source": [
        "fd = data[['Python (out of 3)','R Programming (out of 3)','Data Science (out of 3)']].copy()"
      ],
      "execution_count": 0,
      "outputs": []
    },
    {
      "cell_type": "code",
      "metadata": {
        "id": "WllAYy9znjeU",
        "colab_type": "code",
        "outputId": "41ea1671-ca3f-444c-9d3b-ddc68ded959b",
        "colab": {
          "base_uri": "https://localhost:8080/",
          "height": 419
        }
      },
      "source": [
        "fd"
      ],
      "execution_count": 8,
      "outputs": [
        {
          "output_type": "execute_result",
          "data": {
            "text/html": [
              "<div>\n",
              "<style scoped>\n",
              "    .dataframe tbody tr th:only-of-type {\n",
              "        vertical-align: middle;\n",
              "    }\n",
              "\n",
              "    .dataframe tbody tr th {\n",
              "        vertical-align: top;\n",
              "    }\n",
              "\n",
              "    .dataframe thead th {\n",
              "        text-align: right;\n",
              "    }\n",
              "</style>\n",
              "<table border=\"1\" class=\"dataframe\">\n",
              "  <thead>\n",
              "    <tr style=\"text-align: right;\">\n",
              "      <th></th>\n",
              "      <th>Python (out of 3)</th>\n",
              "      <th>R Programming (out of 3)</th>\n",
              "      <th>Data Science (out of 3)</th>\n",
              "    </tr>\n",
              "  </thead>\n",
              "  <tbody>\n",
              "    <tr>\n",
              "      <th>0</th>\n",
              "      <td>1</td>\n",
              "      <td>0</td>\n",
              "      <td>3</td>\n",
              "    </tr>\n",
              "    <tr>\n",
              "      <th>1</th>\n",
              "      <td>2</td>\n",
              "      <td>1</td>\n",
              "      <td>2</td>\n",
              "    </tr>\n",
              "    <tr>\n",
              "      <th>2</th>\n",
              "      <td>2</td>\n",
              "      <td>0</td>\n",
              "      <td>0</td>\n",
              "    </tr>\n",
              "    <tr>\n",
              "      <th>3</th>\n",
              "      <td>2</td>\n",
              "      <td>0</td>\n",
              "      <td>2</td>\n",
              "    </tr>\n",
              "    <tr>\n",
              "      <th>4</th>\n",
              "      <td>2</td>\n",
              "      <td>0</td>\n",
              "      <td>0</td>\n",
              "    </tr>\n",
              "    <tr>\n",
              "      <th>...</th>\n",
              "      <td>...</td>\n",
              "      <td>...</td>\n",
              "      <td>...</td>\n",
              "    </tr>\n",
              "    <tr>\n",
              "      <th>606</th>\n",
              "      <td>2</td>\n",
              "      <td>2</td>\n",
              "      <td>2</td>\n",
              "    </tr>\n",
              "    <tr>\n",
              "      <th>607</th>\n",
              "      <td>1</td>\n",
              "      <td>0</td>\n",
              "      <td>0</td>\n",
              "    </tr>\n",
              "    <tr>\n",
              "      <th>608</th>\n",
              "      <td>2</td>\n",
              "      <td>2</td>\n",
              "      <td>0</td>\n",
              "    </tr>\n",
              "    <tr>\n",
              "      <th>609</th>\n",
              "      <td>3</td>\n",
              "      <td>2</td>\n",
              "      <td>2</td>\n",
              "    </tr>\n",
              "    <tr>\n",
              "      <th>610</th>\n",
              "      <td>2</td>\n",
              "      <td>2</td>\n",
              "      <td>0</td>\n",
              "    </tr>\n",
              "  </tbody>\n",
              "</table>\n",
              "<p>611 rows × 3 columns</p>\n",
              "</div>"
            ],
            "text/plain": [
              "     Python (out of 3)  R Programming (out of 3)  Data Science (out of 3)\n",
              "0                    1                         0                        3\n",
              "1                    2                         1                        2\n",
              "2                    2                         0                        0\n",
              "3                    2                         0                        2\n",
              "4                    2                         0                        0\n",
              "..                 ...                       ...                      ...\n",
              "606                  2                         2                        2\n",
              "607                  1                         0                        0\n",
              "608                  2                         2                        0\n",
              "609                  3                         2                        2\n",
              "610                  2                         2                        0\n",
              "\n",
              "[611 rows x 3 columns]"
            ]
          },
          "metadata": {
            "tags": []
          },
          "execution_count": 8
        }
      ]
    },
    {
      "cell_type": "code",
      "metadata": {
        "id": "IcqM63Eps2rp",
        "colab_type": "code",
        "colab": {
          "base_uri": "https://localhost:8080/",
          "height": 54
        },
        "outputId": "19118a06-726f-467e-e606-a7de645fa7c8"
      },
      "source": [
        "'''\n",
        "fd['python_score'] = ''\n",
        "fd.loc[(fd['Python (out of 3)'] > 0) & (fd['Python (out of 3)'] <= 1), 'weitage'] = 3\n",
        "fd.loc[(fd['Python (out of 3)'] > 1) & (fd['Python (out of 3)'] <= 2), 'weitage'] = 7\n",
        "fd.loc[(fd['Python (out of 3)'] > 2) & (fd['Python (out of 3)'] <= 3), 'weitage'] = 10\n",
        "print (fd['python_score'])\n",
        "'''"
      ],
      "execution_count": 9,
      "outputs": [
        {
          "output_type": "execute_result",
          "data": {
            "text/plain": [
              "\"\\nfd['python_score'] = ''\\nfd.loc[(fd['Python (out of 3)'] > 0) & (fd['Python (out of 3)'] <= 1), 'weitage'] = 3\\nfd.loc[(fd['Python (out of 3)'] > 1) & (fd['Python (out of 3)'] <= 2), 'weitage'] = 7\\nfd.loc[(fd['Python (out of 3)'] > 2) & (fd['Python (out of 3)'] <= 3), 'weitage'] = 10\\nprint (fd['python_score'])\\n\""
            ]
          },
          "metadata": {
            "tags": []
          },
          "execution_count": 9
        }
      ]
    },
    {
      "cell_type": "code",
      "metadata": {
        "id": "C04kvsBAnbUp",
        "colab_type": "code",
        "colab": {}
      },
      "source": [
        "fd['python_score'] = 0\n",
        "fd.loc[(fd['Python (out of 3)'] > 0) & (fd['Python (out of 3)'] <= 1), 'python_score'] = 3\n",
        "fd.loc[(fd['Python (out of 3)'] > 1) & (fd['Python (out of 3)'] <= 2), 'python_score'] = 7\n",
        "fd.loc[(fd['Python (out of 3)'] > 2) & (fd['Python (out of 3)'] <= 3), 'python_score'] = 10"
      ],
      "execution_count": 0,
      "outputs": []
    },
    {
      "cell_type": "code",
      "metadata": {
        "id": "k7Ugzp_tucCf",
        "colab_type": "code",
        "colab": {}
      },
      "source": [
        "fd['R_score'] = 0\n",
        "fd.loc[(fd['R Programming (out of 3)'] > 0) & (fd['R Programming (out of 3)'] <= 1), 'R_score'] = 3\n",
        "fd.loc[(fd['R Programming (out of 3)'] > 1) & (fd['R Programming (out of 3)'] <= 2), 'R_score'] = 7\n",
        "fd.loc[(fd['R Programming (out of 3)'] > 2) & (fd['R Programming (out of 3)'] <= 3), 'R_score'] = 10"
      ],
      "execution_count": 0,
      "outputs": []
    },
    {
      "cell_type": "code",
      "metadata": {
        "id": "UJNUOznHuh9b",
        "colab_type": "code",
        "colab": {}
      },
      "source": [
        "fd['DS_score'] = 0\n",
        "fd.loc[(fd['Data Science (out of 3)'] > 0) & (fd['Data Science (out of 3)'] <= 1), 'DS_score'] = 3\n",
        "fd.loc[(fd['Data Science (out of 3)'] > 1) & (fd['Data Science (out of 3)'] <= 2), 'DS_score'] = 7\n",
        "fd.loc[(fd['Data Science (out of 3)'] > 2) & (fd['Data Science (out of 3)'] <= 3), 'DS_score'] = 10"
      ],
      "execution_count": 0,
      "outputs": []
    },
    {
      "cell_type": "code",
      "metadata": {
        "id": "hBacvDZvummo",
        "colab_type": "code",
        "outputId": "be83cd3b-ee42-448d-9d0d-f46d3aa8ea2a",
        "colab": {
          "base_uri": "https://localhost:8080/",
          "height": 255
        }
      },
      "source": [
        "print (fd[['python_score', 'R_score', 'DS_score']])"
      ],
      "execution_count": 13,
      "outputs": [
        {
          "output_type": "stream",
          "text": [
            "     python_score  R_score  DS_score\n",
            "0               3        0        10\n",
            "1               7        3         7\n",
            "2               7        0         0\n",
            "3               7        0         7\n",
            "4               7        0         0\n",
            "..            ...      ...       ...\n",
            "606             7        7         7\n",
            "607             3        0         0\n",
            "608             7        7         0\n",
            "609            10        7         7\n",
            "610             7        7         0\n",
            "\n",
            "[611 rows x 3 columns]\n"
          ],
          "name": "stdout"
        }
      ]
    },
    {
      "cell_type": "code",
      "metadata": {
        "id": "bL56R4svwdXw",
        "colab_type": "code",
        "outputId": "54cc2fe3-dfce-4880-93e3-c89950cbd034",
        "colab": {
          "base_uri": "https://localhost:8080/",
          "height": 221
        }
      },
      "source": [
        "fd['prg_wt'] = fd['python_score'] + fd['R_score'] + fd['DS_score']\n",
        "fd['prg_wt']"
      ],
      "execution_count": 14,
      "outputs": [
        {
          "output_type": "execute_result",
          "data": {
            "text/plain": [
              "0      13\n",
              "1      17\n",
              "2       7\n",
              "3      14\n",
              "4       7\n",
              "       ..\n",
              "606    21\n",
              "607     3\n",
              "608    14\n",
              "609    24\n",
              "610    14\n",
              "Name: prg_wt, Length: 611, dtype: int64"
            ]
          },
          "metadata": {
            "tags": []
          },
          "execution_count": 14
        }
      ]
    },
    {
      "cell_type": "code",
      "metadata": {
        "id": "JQ3XjoVAxkCD",
        "colab_type": "code",
        "colab": {}
      },
      "source": [
        "################Degree weightage#############################"
      ],
      "execution_count": 0,
      "outputs": []
    },
    {
      "cell_type": "code",
      "metadata": {
        "id": "Vn0cujmMxkwQ",
        "colab_type": "code",
        "colab": {}
      },
      "source": [
        "st = data[['Degree','Current Year Of Graduation']].copy()"
      ],
      "execution_count": 0,
      "outputs": []
    },
    {
      "cell_type": "code",
      "metadata": {
        "id": "ABWsD6eWxk-O",
        "colab_type": "code",
        "outputId": "010b723e-8ec1-438a-ad76-416fbc32d661",
        "colab": {
          "base_uri": "https://localhost:8080/",
          "height": 419
        }
      },
      "source": [
        "st"
      ],
      "execution_count": 17,
      "outputs": [
        {
          "output_type": "execute_result",
          "data": {
            "text/html": [
              "<div>\n",
              "<style scoped>\n",
              "    .dataframe tbody tr th:only-of-type {\n",
              "        vertical-align: middle;\n",
              "    }\n",
              "\n",
              "    .dataframe tbody tr th {\n",
              "        vertical-align: top;\n",
              "    }\n",
              "\n",
              "    .dataframe thead th {\n",
              "        text-align: right;\n",
              "    }\n",
              "</style>\n",
              "<table border=\"1\" class=\"dataframe\">\n",
              "  <thead>\n",
              "    <tr style=\"text-align: right;\">\n",
              "      <th></th>\n",
              "      <th>Degree</th>\n",
              "      <th>Current Year Of Graduation</th>\n",
              "    </tr>\n",
              "  </thead>\n",
              "  <tbody>\n",
              "    <tr>\n",
              "      <th>0</th>\n",
              "      <td>Bachelor of Engineering (B.E)</td>\n",
              "      <td>2019</td>\n",
              "    </tr>\n",
              "    <tr>\n",
              "      <th>1</th>\n",
              "      <td>NaN</td>\n",
              "      <td>2020</td>\n",
              "    </tr>\n",
              "    <tr>\n",
              "      <th>2</th>\n",
              "      <td>Bachelor of Technology (B.Tech)</td>\n",
              "      <td>2018</td>\n",
              "    </tr>\n",
              "    <tr>\n",
              "      <th>3</th>\n",
              "      <td>Integrated M.Tech</td>\n",
              "      <td>2021</td>\n",
              "    </tr>\n",
              "    <tr>\n",
              "      <th>4</th>\n",
              "      <td>Bachelor of Engineering (B.E)</td>\n",
              "      <td>2018</td>\n",
              "    </tr>\n",
              "    <tr>\n",
              "      <th>...</th>\n",
              "      <td>...</td>\n",
              "      <td>...</td>\n",
              "    </tr>\n",
              "    <tr>\n",
              "      <th>606</th>\n",
              "      <td>Bachelor of Engineering (B.E)</td>\n",
              "      <td>2020</td>\n",
              "    </tr>\n",
              "    <tr>\n",
              "      <th>607</th>\n",
              "      <td>PG Diploma in Data Science</td>\n",
              "      <td>2020</td>\n",
              "    </tr>\n",
              "    <tr>\n",
              "      <th>608</th>\n",
              "      <td>Bachelor of Technology (B.Tech)</td>\n",
              "      <td>2016</td>\n",
              "    </tr>\n",
              "    <tr>\n",
              "      <th>609</th>\n",
              "      <td>Bachelor of Science (B.Sc)</td>\n",
              "      <td>2018</td>\n",
              "    </tr>\n",
              "    <tr>\n",
              "      <th>610</th>\n",
              "      <td>Master of Technology (M.Tech)</td>\n",
              "      <td>2016</td>\n",
              "    </tr>\n",
              "  </tbody>\n",
              "</table>\n",
              "<p>611 rows × 2 columns</p>\n",
              "</div>"
            ],
            "text/plain": [
              "                              Degree  Current Year Of Graduation\n",
              "0      Bachelor of Engineering (B.E)                        2019\n",
              "1                                NaN                        2020\n",
              "2    Bachelor of Technology (B.Tech)                        2018\n",
              "3                  Integrated M.Tech                        2021\n",
              "4      Bachelor of Engineering (B.E)                        2018\n",
              "..                               ...                         ...\n",
              "606    Bachelor of Engineering (B.E)                        2020\n",
              "607       PG Diploma in Data Science                        2020\n",
              "608  Bachelor of Technology (B.Tech)                        2016\n",
              "609       Bachelor of Science (B.Sc)                        2018\n",
              "610    Master of Technology (M.Tech)                        2016\n",
              "\n",
              "[611 rows x 2 columns]"
            ]
          },
          "metadata": {
            "tags": []
          },
          "execution_count": 17
        }
      ]
    },
    {
      "cell_type": "code",
      "metadata": {
        "id": "FTiVJ-GU-eb5",
        "colab_type": "code",
        "outputId": "f1ca5ad2-4bd2-4d49-9f7e-e7572d93fdaa",
        "colab": {
          "base_uri": "https://localhost:8080/",
          "height": 493
        }
      },
      "source": [
        "st.Degree.unique()"
      ],
      "execution_count": 18,
      "outputs": [
        {
          "output_type": "execute_result",
          "data": {
            "text/plain": [
              "array(['Bachelor of Engineering (B.E)', nan,\n",
              "       'Bachelor of Technology (B.Tech)', 'Integrated M.Tech',\n",
              "       'B.Tech (Hons.)', 'Master of Business Administration_(MBA)', 'MBA',\n",
              "       'Master of Science (M.Sc)', 'Post Graduate Programme (PGP)',\n",
              "       'Master of Computer Applications (MCA)',\n",
              "       'Bachelor of Pharmacy (B.Pharm)', 'Integrated MCA',\n",
              "       'Bachelor of Commerce (B.Com)', 'Master of Technology (M.Tech)',\n",
              "       'Integrated B.Sc. & M.Sc.', 'Post Graduate Diploma',\n",
              "       'Integrated M.Sc.', 'Master of Arts (M.A.)',\n",
              "       'PG Diploma in Data Science', 'Bachelor of Science (B.Sc)',\n",
              "       'Integrated B.Tech', 'Master of Statistics (M.Stat)',\n",
              "       'Post Graduate Diploma in Management (P.G.D.M.)',\n",
              "       'Master of Engineering (M.E)', 'Master Of Analytics',\n",
              "       'Bachelor of Computer Applications (BCA)',\n",
              "       'Integrated B.S. & M.S.', 'Bachelor of Science (B.Sc) (Hons.)',\n",
              "       'Bachelor of Computer Science (B.C.S.)',\n",
              "       'Master of Science (M.S.)', 'Master of Science (M.Sc) (Hons.)',\n",
              "       'Integrated B.Tech & M.Tech', 'Integrated B.Tech & MBA',\n",
              "       'Bachelor of Mathematics (B.Math) (Hons.)',\n",
              "       'Post Graduate Diploma in Business Management (P.G.D.B.M.)',\n",
              "       'Executive MBA',\n",
              "       'Post Graduate Diploma in Big Data Analytics (PG-DBDA)',\n",
              "       'Bachelor of Engineering (B.E) (Hons.)',\n",
              "       'Bachelor of Business Management (B.B.M.)',\n",
              "       'Bachelor of Commerce (B.Com) (Hons.)',\n",
              "       'Post Graduate Program in Business Analytics',\n",
              "       'B.Com. Professional',\n",
              "       'Bachelor of Business Administration (B.B.A.)'], dtype=object)"
            ]
          },
          "metadata": {
            "tags": []
          },
          "execution_count": 18
        }
      ]
    },
    {
      "cell_type": "code",
      "metadata": {
        "id": "ulso0bPv2hey",
        "colab_type": "code",
        "outputId": "76dd7065-880f-45cf-d282-a2b3cc00e23e",
        "colab": {
          "base_uri": "https://localhost:8080/",
          "height": 419
        }
      },
      "source": [
        "st['DG_score'] = 0\n",
        "st.loc[((st['Degree'] == 'Bachelor of Technology (B.Tech)') | (st['Degree'] == 'Bachelor of Engineering (B.E)') | (st['Degree'] == 'Integrated B.Tech & M.Tech') | (st['Degree'] == 'Integrated B.Tech & MBA') | (st['Degree'] == 'Integrated B.Tech') | (st['Degree'] == 'Integrated M.Tech') | (st['Degree'] == 'Integrated B.Sc. & M.Sc.') | (st['Degree'] == 'Master of Science (M.Sc)') | (st['Degree'] == 'Master of Technology (M.Tech)') | (st['Degree'] == 'Master of Engineering (M.E)') | (st['Degree'] == 'Master of Science (M.Sc) (Hons.)') | (st['Degree'] == 'Bachelor of Engineering (B.E) (Hons.)')) & (st['Current Year Of Graduation'] >= 2020 ),'DG_score'] = 10\n",
        "st.loc[((st['Degree'] == 'Bachelor of Technology (B.Tech)') | (st['Degree'] == 'Bachelor of Engineering (B.E)') | (st['Degree'] == 'Integrated B.Tech & M.Tech') | (st['Degree'] == 'Integrated B.Tech & MBA') | (st['Degree'] == 'Integrated B.Tech') | (st['Degree'] == 'Integrated M.Tech') | (st['Degree'] == 'Integrated B.Sc. & M.Sc.') | (st['Degree'] == 'Master of Science (M.Sc)') | (st['Degree'] == 'Master of Technology (M.Tech)') | (st['Degree'] == 'Master of Engineering (M.E)') | (st['Degree'] == 'Master of Science (M.Sc) (Hons.)') | (st['Degree'] == 'Bachelor of Engineering (B.E) (Hons.)')) & (st['Current Year Of Graduation'] == 2019 ),'DG_score'] = 8\n",
        "st.loc[((st['Degree'] == 'Bachelor of Technology (B.Tech)') | (st['Degree'] == 'Bachelor of Engineering (B.E)') | (st['Degree'] == 'Integrated B.Tech & M.Tech') | (st['Degree'] == 'Integrated B.Tech & MBA') | (st['Degree'] == 'Integrated B.Tech') | (st['Degree'] == 'Integrated M.Tech') | (st['Degree'] == 'Integrated B.Sc. & M.Sc.') | (st['Degree'] == 'Master of Science (M.Sc)') | (st['Degree'] == 'Master of Technology (M.Tech)') | (st['Degree'] == 'Master of Engineering (M.E)') | (st['Degree'] == 'Master of Science (M.Sc) (Hons.)') | (st['Degree'] == 'Bachelor of Engineering (B.E) (Hons.)')) & (st['Current Year Of Graduation'] <= 2018 ),'DG_score'] = 5\n",
        "st"
      ],
      "execution_count": 19,
      "outputs": [
        {
          "output_type": "execute_result",
          "data": {
            "text/html": [
              "<div>\n",
              "<style scoped>\n",
              "    .dataframe tbody tr th:only-of-type {\n",
              "        vertical-align: middle;\n",
              "    }\n",
              "\n",
              "    .dataframe tbody tr th {\n",
              "        vertical-align: top;\n",
              "    }\n",
              "\n",
              "    .dataframe thead th {\n",
              "        text-align: right;\n",
              "    }\n",
              "</style>\n",
              "<table border=\"1\" class=\"dataframe\">\n",
              "  <thead>\n",
              "    <tr style=\"text-align: right;\">\n",
              "      <th></th>\n",
              "      <th>Degree</th>\n",
              "      <th>Current Year Of Graduation</th>\n",
              "      <th>DG_score</th>\n",
              "    </tr>\n",
              "  </thead>\n",
              "  <tbody>\n",
              "    <tr>\n",
              "      <th>0</th>\n",
              "      <td>Bachelor of Engineering (B.E)</td>\n",
              "      <td>2019</td>\n",
              "      <td>8</td>\n",
              "    </tr>\n",
              "    <tr>\n",
              "      <th>1</th>\n",
              "      <td>NaN</td>\n",
              "      <td>2020</td>\n",
              "      <td>0</td>\n",
              "    </tr>\n",
              "    <tr>\n",
              "      <th>2</th>\n",
              "      <td>Bachelor of Technology (B.Tech)</td>\n",
              "      <td>2018</td>\n",
              "      <td>5</td>\n",
              "    </tr>\n",
              "    <tr>\n",
              "      <th>3</th>\n",
              "      <td>Integrated M.Tech</td>\n",
              "      <td>2021</td>\n",
              "      <td>10</td>\n",
              "    </tr>\n",
              "    <tr>\n",
              "      <th>4</th>\n",
              "      <td>Bachelor of Engineering (B.E)</td>\n",
              "      <td>2018</td>\n",
              "      <td>5</td>\n",
              "    </tr>\n",
              "    <tr>\n",
              "      <th>...</th>\n",
              "      <td>...</td>\n",
              "      <td>...</td>\n",
              "      <td>...</td>\n",
              "    </tr>\n",
              "    <tr>\n",
              "      <th>606</th>\n",
              "      <td>Bachelor of Engineering (B.E)</td>\n",
              "      <td>2020</td>\n",
              "      <td>10</td>\n",
              "    </tr>\n",
              "    <tr>\n",
              "      <th>607</th>\n",
              "      <td>PG Diploma in Data Science</td>\n",
              "      <td>2020</td>\n",
              "      <td>0</td>\n",
              "    </tr>\n",
              "    <tr>\n",
              "      <th>608</th>\n",
              "      <td>Bachelor of Technology (B.Tech)</td>\n",
              "      <td>2016</td>\n",
              "      <td>5</td>\n",
              "    </tr>\n",
              "    <tr>\n",
              "      <th>609</th>\n",
              "      <td>Bachelor of Science (B.Sc)</td>\n",
              "      <td>2018</td>\n",
              "      <td>0</td>\n",
              "    </tr>\n",
              "    <tr>\n",
              "      <th>610</th>\n",
              "      <td>Master of Technology (M.Tech)</td>\n",
              "      <td>2016</td>\n",
              "      <td>5</td>\n",
              "    </tr>\n",
              "  </tbody>\n",
              "</table>\n",
              "<p>611 rows × 3 columns</p>\n",
              "</div>"
            ],
            "text/plain": [
              "                              Degree  Current Year Of Graduation  DG_score\n",
              "0      Bachelor of Engineering (B.E)                        2019         8\n",
              "1                                NaN                        2020         0\n",
              "2    Bachelor of Technology (B.Tech)                        2018         5\n",
              "3                  Integrated M.Tech                        2021        10\n",
              "4      Bachelor of Engineering (B.E)                        2018         5\n",
              "..                               ...                         ...       ...\n",
              "606    Bachelor of Engineering (B.E)                        2020        10\n",
              "607       PG Diploma in Data Science                        2020         0\n",
              "608  Bachelor of Technology (B.Tech)                        2016         5\n",
              "609       Bachelor of Science (B.Sc)                        2018         0\n",
              "610    Master of Technology (M.Tech)                        2016         5\n",
              "\n",
              "[611 rows x 3 columns]"
            ]
          },
          "metadata": {
            "tags": []
          },
          "execution_count": 19
        }
      ]
    },
    {
      "cell_type": "code",
      "metadata": {
        "id": "TEWEFX8q2Ec6",
        "colab_type": "code",
        "colab": {}
      },
      "source": [
        "################skill weightage#############################"
      ],
      "execution_count": 0,
      "outputs": []
    },
    {
      "cell_type": "code",
      "metadata": {
        "id": "Wnw2K3WCH9Hr",
        "colab_type": "code",
        "colab": {}
      },
      "source": [
        "sk = data[['Other skills']].copy()"
      ],
      "execution_count": 0,
      "outputs": []
    },
    {
      "cell_type": "code",
      "metadata": {
        "id": "TA9JEbkkH8Kn",
        "colab_type": "code",
        "outputId": "dc333358-9ca0-4d48-ffcf-8c105383048b",
        "colab": {
          "base_uri": "https://localhost:8080/",
          "height": 51
        }
      },
      "source": [
        "sk.dtypes"
      ],
      "execution_count": 22,
      "outputs": [
        {
          "output_type": "execute_result",
          "data": {
            "text/plain": [
              "Other skills    object\n",
              "dtype: object"
            ]
          },
          "metadata": {
            "tags": []
          },
          "execution_count": 22
        }
      ]
    },
    {
      "cell_type": "code",
      "metadata": {
        "id": "5yQ0qpWXJAT5",
        "colab_type": "code",
        "outputId": "927fdc67-5dc6-411d-86de-2c96e7b86cf9",
        "colab": {
          "base_uri": "https://localhost:8080/",
          "height": 1000
        }
      },
      "source": [
        "sk['Other skills'].unique()"
      ],
      "execution_count": 23,
      "outputs": [
        {
          "output_type": "execute_result",
          "data": {
            "text/plain": [
              "array(['Machine Learning, Arduino, C Programming, CSS, Data Analytics, Data Structures, Deep Learning, HTML, Natural Language Processing (NLP), MATLAB, Python',\n",
              "       'AutoCAD, MS-Office, Machine Learning, Microsoft Azure, MySQL, Python, SolidWorks, Deep Learning, R Programming',\n",
              "       'C++ Programming, Data Structures, Image Processing, Python',\n",
              "       'Algorithms, C++ Programming, Data Structures, Natural Language Processing (NLP), CSS, Computer Vision, Deep Learning, HTML, Java, Machine Learning, MySQL, Python, Android',\n",
              "       'MS-Word, Python, SQL, MS-Excel',\n",
              "       'C Programming, C++ Programming, CSS, GitHub, HTML, MS-Office, Python, R Programming, SQL, JavaScript, STATA',\n",
              "       'C++ Programming, Deep Learning, Machine Learning',\n",
              "       'Natural Language Processing (NLP), Python, R Programming, SQL',\n",
              "       'Computer Vision, Image Processing, MySQL, OpenCV, Python, Deep Learning, Machine Learning',\n",
              "       'CSS, HTML, JavaScript, PostgreSQL',\n",
              "       'English Proficiency (Spoken), MS-Excel, Data Analytics, Machine Learning, Python',\n",
              "       'MS-Excel, MS-Office, SPSS, Data Science, Machine Learning, R Programming, SQL, Python',\n",
              "       'C Programming, Eclipse (IDE), Java, Database Management System (DBMS), HTML, Linux, SQL',\n",
              "       'AutoCAD, MS-Office, Catia, SolidWorks',\n",
              "       'Machine Learning, Python, MySQL, Statistical Modeling, Tableau',\n",
              "       'AutoCAD, Embedded Systems, MATLAB',\n",
              "       'Bootstrap, C Programming, Flask, HTML, LARAVEL, MySQL, Node.js, PHP, PostgreSQL, Python, SQL, Stripe Payment API, Video Editing, Data Analytics, GitHub, Heroku, Image Processing, Machine Learning',\n",
              "       'Data Analytics, MS-Excel',\n",
              "       'C Programming, Data Analytics, Data Science, Java, Machine Learning, Natural Language Processing (NLP), Python, SQL, Unix, HTML',\n",
              "       'HTML, MS-Excel, SQL, Android, JavaScript, PHP, Python',\n",
              "       'Data Analytics, Embedded Systems, Machine Learning, Python, R Programming',\n",
              "       'Algorithms, C Programming, Data Structures, Database Management System (DBMS), Java, Linux, Python',\n",
              "       'Python, SQL, Amazon Web Services (AWS), Apache Cassandra, Apache Kafka, BIG DATA ANALYTICS, Cloud Computing, Database Management System (DBMS), Hadoop, Linux, MongoDB, Shell Scripting',\n",
              "       'Python, Machine Learning, SQL, R Programming',\n",
              "       'Python, Data Analytics, Data Science, MS-PowerPoint, MS-Word, Machine Learning, Mathematics, Video Editing, C Programming, Data Structures, Database Management System (DBMS), MS SQL Server, MySQL, SQL',\n",
              "       nan,\n",
              "       'Computer Networking, Data Analytics, Data Science, Linux, MS-Excel, Machine Learning, Python, SQL',\n",
              "       'C Programming, C++ Programming, Java, MS-Excel, MS-Office, MS-PowerPoint, MS-Word, WordPress, HTML, Python, SQL, Visual Basic (VB)',\n",
              "       'Algorithms, C++ Programming, Data Analytics, Data Structures, Machine Learning, Mathematics, Python',\n",
              "       'Data Analytics, Java, Machine Learning, Python, SQL',\n",
              "       'Machine Learning, Python, R Programming, Natural Language Processing (NLP)',\n",
              "       'English Proficiency (Spoken), MS-Excel, Data Analytics, Python',\n",
              "       'English Proficiency (Spoken), C Programming, C++ Programming, English Proficiency (Written), HTML, Hindi Proficiency (Spoken), Java, MS-Excel, MS-Office, Malayalam, MySQL, Python',\n",
              "       'Machine Learning, Python, R Programming, Artifical Intelligence, Data Analytics, Deep Learning, Natural Language Processing (NLP)',\n",
              "       'ASP.NET, C#, HTML, JavaScript, Machine Learning, SQL, Data Science, Python, Statistical Modeling',\n",
              "       'PLC SCADA, Embedded Systems, MATLAB, MS-Office, VHDL, C Programming, MS-Excel',\n",
              "       'Database Management System (DBMS), MS-Office, Data Analytics, Python, Java, Machine Learning',\n",
              "       'Machine Learning, Python, R Programming, Statistical Modeling, Apache, Hadoop',\n",
              "       'C Programming, C++ Programming, Data Analytics, Java, MS-Excel, Machine Learning, MySQL, Python, R Programming, Statistical Modeling',\n",
              "       'C Programming, Python, Machine Learning',\n",
              "       'Data Analytics, Data Science, Deep Learning, Machine Learning, Python, R Programming, SQLite, Apache, MySQL, SQL',\n",
              "       'Google Analytics, MS-Excel, MS-PowerPoint, MS-Word, SQL, R Programming',\n",
              "       'English Proficiency (Written), C Programming, C++ Programming, English Proficiency (Spoken), HTML, MS-Excel, MS-Office, MS-PowerPoint, MS-Word, Machine Learning, Python, SQLite, Adobe Photoshop, Algorithms, JSON, MySQL',\n",
              "       'C Programming, Python, R Programming',\n",
              "       'CSS, Django, HTML, Machine Learning, MySQL, Python, Data Analytics, Deep Learning, MATLAB, Neural Networks, OpenCV',\n",
              "       'Machine Learning, C Programming, Data Science, Java',\n",
              "       'Data Analytics',\n",
              "       'C Programming, Computer Vision, Database Management System (DBMS), Digital Marketing, Mathematics, Data Analytics, Data Structures, Java, Python, XML, AngularJS, Machine Learning, OpenCV',\n",
              "       'Machine Learning, MySQL, Python, SAS, Statistical Modeling',\n",
              "       'Data Analytics, Machine Learning, English Proficiency (Spoken), Java, MS-Excel, Python, SQL',\n",
              "       'Python, AutoCAD, C Programming, C++ Programming, Java, Machine Learning, MySQL',\n",
              "       'Data Analytics, Machine Learning, Python, Statistical Modeling, Computer Vision, Image Processing, MS-Excel, Natural Language Processing (NLP), Deep Learning',\n",
              "       'BIG DATA ANALYTICS, Data Analytics, Database Management System (DBMS), Machine Learning, MySQL, Natural Language Processing (NLP), Python',\n",
              "       'C Programming, C++ Programming, CSS, Data Structures, HTML, Java, Python',\n",
              "       'MS-Excel, Python, SAP, R Programming, SPSS, SQL',\n",
              "       'Java, MS-Excel, MS-PowerPoint, Python, R Programming',\n",
              "       'English Proficiency (Spoken), MS-Excel, Machine Learning, Python',\n",
              "       'English Proficiency (Spoken), English Proficiency (Written), MS-Excel, Machine Learning, Python',\n",
              "       'R Programming', 'MS-Excel, MySQL, R Programming, Python, Tableau',\n",
              "       'Machine Learning, Python, Data Analytics',\n",
              "       'C Programming, C++ Programming, CSS, HTML, Java, Python, SQL',\n",
              "       'Data Science',\n",
              "       'Data Analytics, Deep Learning, Eclipse (IDE), HTML, MS-Excel, Machine Learning, MySQL, Python',\n",
              "       'Data Analytics, Python, SPSS, SQL, R Programming',\n",
              "       'Data Analytics, Embedded Systems, Machine Learning, R Programming, Visual Basic (VB)',\n",
              "       'C Programming, C++ Programming, GNU Octave, Java, MS-Excel, MS-PowerPoint, MS-Word, Python, Machine Learning',\n",
              "       'Machine Learning, MySQL, Python',\n",
              "       'MS-Excel, MySQL, Python, R Programming, SAS, Statistical Modeling, Tableau',\n",
              "       'C Programming, C++ Programming, CSS, Data Structures, Database Management System (DBMS), Deep Learning, Flask, HTML, JavaScript, Linux, MATLAB, Machine Learning, Node.js, OpenCV, PHP, Python, jQuery, BIG DATA ANALYTICS, Data Science, Django, Image Processing, JSON, Neural Networks, SQL',\n",
              "       'Hibernate (Java), MySQL, C Programming, C++ Programming, CSS, HTML, Java, Spring MVC, Machine Learning',\n",
              "       'Adobe Photoshop, CSS, HTML, Java, JavaScript, Machine Learning, PHP, Python, R Programming',\n",
              "       'C Programming, C++ Programming, Data Analytics, MS-Excel, Machine Learning, Python, R Programming, SQL',\n",
              "       'Data Science, Deep Learning, Machine Learning, Natural Language Processing (NLP), Python, Artifical Intelligence, R Programming',\n",
              "       'ASP.NET, C#, HTML, Python, SQL, Visual Basic (VB), Machine Learning',\n",
              "       'Python, SAS, SQL',\n",
              "       'CSS, HTML, JavaScript, Data Science, Hadoop, MySQL, Python',\n",
              "       'Java, Python, JavaScript, MongoDB, SQL',\n",
              "       'Data Science, Machine Learning, Python, Data Analytics, Natural Language Processing (NLP), SQL, Tableau',\n",
              "       'Deep Learning, Machine Learning, Natural Language Processing (NLP), Python, Statistical Modeling, BIG DATA ANALYTICS, MS-Excel, MongoDB',\n",
              "       'Data Analytics, MS-Office, Machine Learning, MySQL, Python, R Programming, MongoDB',\n",
              "       'Data Analytics, HTML, Machine Learning, MySQL, Python, Deep Learning, Natural Language Processing (NLP)',\n",
              "       'Data Analytics, C Programming, HTML, MS-Excel, MS-Word, Machine Learning, MySQL, Python, SQL, Flask, Heroku, Statistical Modeling, WordPress',\n",
              "       'Computer Networking, HTML, Machine Learning, MySQL, Ethical Hacking, Python, R Programming',\n",
              "       'Data Analytics, MySQL, PHP, C Programming, HTML, Machine Learning, Python',\n",
              "       'MS-Excel, Python, R Programming, SAS',\n",
              "       'French Proficiency (spoken), MS-Excel, MS-Word, Python, SQL, Statistical Modeling, Data Analytics, Machine Learning',\n",
              "       'Data Science, Python, R Programming, Natural Language Processing (NLP), Tableau',\n",
              "       'Algorithms, C Programming, Data Structures, Database Management System (DBMS), Deep Learning, Natural Language Processing (NLP), Python, Android, Computer Vision, OpenCV',\n",
              "       'Adobe Premiere Pro, Python, Data Analytics, Database Management System (DBMS), Django, Machine Learning',\n",
              "       'MS-Excel, Data Analytics, English Proficiency (Spoken), Machine Learning, Python',\n",
              "       'Data Analytics, English Proficiency (Spoken), MS-Excel, Machine Learning, Python',\n",
              "       'MS-Excel, Machine Learning, Python, SQL, Natural Language Processing (NLP)',\n",
              "       'C Programming, English Proficiency (Spoken), English Proficiency (Written), Python, SQL, Tableau, R Programming, Statistical Modeling',\n",
              "       'Image Processing, OpenCV, Artifical Intelligence, C Programming, Data Analytics, Database Management System (DBMS), Deep Learning, Financial Modeling, MS SQL Server, MS-Excel, MS-PowerPoint, Machine Learning, Mathematics, Microsoft Visual Studio, Python, R Programming, SPSS, SQL',\n",
              "       'C Programming, Deep Learning, Java, Machine Learning, Natural Language Processing (NLP), Python, SQL',\n",
              "       'Data Analytics, MS SQL Server, MS-Excel, Machine Learning, Python, Power BI',\n",
              "       'Data Analytics, MS-Excel, Machine Learning, Python, SQL, Power BI',\n",
              "       'SQL, Data Analytics, Data Science, MS-Excel, Machine Learning, Python, Statistical Modeling',\n",
              "       'Adobe Illustrator, Adobe Photoshop, CSS, HTML, JavaScript, SQL, Data Analytics, Python',\n",
              "       'MySQL, Data Analytics, MS-Excel, Machine Learning, Python, Tableau',\n",
              "       'Bootstrap, C Programming, C++ Programming, CSS, HTML, Java, JavaScript, PHP, Python, SQL, jQuery, Android, Data Science, iOS',\n",
              "       'English Proficiency (Spoken), Machine Learning, Python, R Programming, Data Analytics, MS-Excel, SQL',\n",
              "       'Machine Learning, Microsoft Azure, Python, R Programming',\n",
              "       'Data Analytics, MySQL, Python, Hadoop, Java, Machine Learning, R Programming',\n",
              "       'Data Analytics, MS-Excel, Machine Learning, Python, Statistical Modeling',\n",
              "       'C Programming, C++ Programming, CSS, HTML, Java, JavaScript, Machine Learning, Python, SQL, XML, Data Science',\n",
              "       'Data Analytics, MS-Excel, Power BI, R Programming, SAP, Data Science, Python, SQL',\n",
              "       'R Programming, SAS',\n",
              "       'Data Structures, Machine Learning, Python, SQL',\n",
              "       'Data Analytics, Python, Artifical Intelligence, Machine Learning',\n",
              "       'Algorithms, C++ Programming, Data Structures, Database Management System (DBMS), Python, Java',\n",
              "       'CSS, HTML, JavaScript, jQuery, .NET, ASP.NET, Adobe Photoshop Lightroom CC, C#.NET, Machine Learning, Python, R Programming, SQL',\n",
              "       'Data Analytics, MS-Excel, MS-Office, Machine Learning, Artifical Intelligence, Python, R Programming, BIG DATA ANALYTICS',\n",
              "       'CSS, HTML, Java, JavaScript, Python',\n",
              "       'MS-Excel, MS-Word, Data Analytics, Machine Learning, Python, SQL',\n",
              "       'Algorithms, C Programming, C++ Programming, Data Analytics, Data Science, Data Structures, MS-Excel, MS-Word, Machine Learning, Python, Statistical Modeling, Database Management System (DBMS), SQL',\n",
              "       'MS-Excel, Data Analytics, Machine Learning, MySQL, Python, Statistical Modeling, Tableau',\n",
              "       'Statistical Modeling', 'Machine Learning, Python',\n",
              "       'Machine Learning, Natural Language Processing (NLP), OpenCV, Python, R Programming, Artifical Intelligence, Deep Learning',\n",
              "       'Data Analytics, Machine Learning, Python, Deep Learning',\n",
              "       'Android, C++ Programming, Java, Python, Machine Learning, Natural Language Processing (NLP), SQL',\n",
              "       'Deep Learning, Machine Learning, Natural Language Processing (NLP), Python, BIG DATA ANALYTICS, Hadoop, MySQL',\n",
              "       'Mathematics, BIG DATA ANALYTICS, Data Analytics, Data Science, Python, R Programming, Statistical Modeling, Hadoop',\n",
              "       'C Programming, C++ Programming, JavaScript, NoSQL, Python, SQL, XML, AngularJS',\n",
              "       'Data Analytics, Data Science, MS-Office, Machine Learning, MySQL, Python',\n",
              "       'Machine Learning, MS-Excel, MS-Office, Python, Statistical Modeling',\n",
              "       'Data Analytics, Machine Learning, Python',\n",
              "       'Artifical Intelligence, Computer Vision, Deep Learning, Machine Learning, Natural Language Processing (NLP), Python, R Programming, SQL, Statistical Modeling, Tableau',\n",
              "       'C Programming, C++ Programming, English Proficiency (Spoken), English Proficiency (Written), Hindi Proficiency (Spoken), Hindi Proficiency (Written), MS-Excel, Data Structures, Database Management System (DBMS), HTML, MS-PowerPoint, MS-Word, Machine Learning, MySQL, Python, SPSS, Unix, Data Analytics, Java',\n",
              "       'Artifical Intelligence, Machine Learning, Python, SQL',\n",
              "       'MS-Excel, Database Management System (DBMS), SQL, Python, R Programming, Statistical Modeling',\n",
              "       'C++ Programming, Jenkins, Python',\n",
              "       'Data Analytics, MS-Office, Python, Algorithms, Data Science, Data Structures, Database Management System (DBMS), GitHub, MS-Excel, Machine Learning, Mathematics, OpenCV, SQL, Statistical Modeling, Natural Language Processing (NLP)',\n",
              "       'Data Analytics, English Proficiency (Spoken), Machine Learning, Python, C++ Programming, Data Structures, MS-Excel',\n",
              "       'Data Analytics, Machine Learning, Natural Language Processing (NLP), Statistical Modeling, Artifical Intelligence',\n",
              "       'Deep Learning, Machine Learning, Python, Computer Vision, Data Analytics',\n",
              "       'Computer Vision, Deep Learning, Machine Learning, MySQL, Natural Language Processing (NLP), Python, Statistical Modeling',\n",
              "       'MS-Excel, Python, Data Analytics, SQL, R Programming',\n",
              "       'MS-Excel, Machine Learning, Python, R Programming, MS-Office',\n",
              "       'C Programming, C++ Programming, Data Science, Deep Learning, MS-Excel, Machine Learning, Power BI, Python, Statistical Modeling',\n",
              "       'MATLAB, MS-Excel, MS-Word, R Programming, Python, SQL',\n",
              "       'Machine Learning, Natural Language Processing (NLP), Python, Deep Learning, MongoDB, SQL',\n",
              "       'Data Science, Machine Learning, Python, Deep Learning',\n",
              "       'Data Analytics, Python, R Programming',\n",
              "       'R Programming, SPSS, SQL, Machine Learning',\n",
              "       'C Programming, Data Analytics, MS-Excel, MS-PowerPoint, MS-Word, Python, R Programming, SolidWorks',\n",
              "       'MS-Excel, Data Analytics, Machine Learning, MySQL, Python, Statistical Modeling',\n",
              "       'Data Analytics, Machine Learning',\n",
              "       'Data Analytics, MS-Excel, MS-PowerPoint, MS-Word, MySQL, Adobe Photoshop, Database Management System (DBMS), Internet of Things (IoT), Python',\n",
              "       'Machine Learning, Data Analytics, Deep Learning, MySQL, Natural Language Processing (NLP), Neural Networks, Python, OpenCV',\n",
              "       'English Proficiency (Spoken), Data Analytics, Data Science, Machine Learning, MySQL, Python',\n",
              "       'Artifical Intelligence, Machine Learning, Python',\n",
              "       'English Proficiency (Written), English Proficiency (Spoken), MS-Excel, MS-Office, Social Media Marketing',\n",
              "       'Artifical Intelligence, Data Analytics, MS-Excel, MS-Office, Machine Learning, Python, R Programming, Deep Learning',\n",
              "       'Data Science, Linear Programming, MS-Excel, Machine Learning, Statistical Modeling, Data Analytics, Power BI, Python, R Programming, SQL, Deep Learning',\n",
              "       'MS-Excel, Data Analytics, Machine Learning, Python, R Programming, Statistical Modeling',\n",
              "       'English Proficiency (Spoken), Data Analytics, MS-Excel, Machine Learning, Python',\n",
              "       'Machine Learning, Natural Language Processing (NLP), Python, Statistical Modeling, Deep Learning, Flask, SQL',\n",
              "       'Google Analytics, MS-Excel, MS-Office, Python, R Programming, Amazon Web Services (AWS)',\n",
              "       'Natural Language Processing (NLP)',\n",
              "       'Data Analytics, Image Processing, Python, Machine Learning',\n",
              "       'Data Science, MS-Office, C Programming, C++ Programming, Data Analytics, Data Structures, Database Management System (DBMS), Machine Learning, Python, Google AdWords, Google Analytics, Mathematics, Video Editing',\n",
              "       'MS-Excel, Python, Machine Learning',\n",
              "       'AutoCAD, MS-Excel, Deep Learning, Machine Learning, MySQL, Natural Language Processing (NLP), Python, R Programming, SolidWorks, Statistical Modeling',\n",
              "       'English Proficiency (Spoken), MS-Office, R Programming, Deep Learning, MS-Excel, Machine Learning, Python, SQL',\n",
              "       'Data Analytics, MS-Excel, MS-Office, Machine Learning, Python, Statistical Modeling',\n",
              "       'Artifical Intelligence, C Programming, C++ Programming, Data Analytics, Deep Learning, Java, Machine Learning, Python, Statistical Modeling',\n",
              "       'Data Science, Machine Learning, Neural Networks, Python, Android',\n",
              "       'Data Analytics, Machine Learning, MySQL, Python, Statistical Modeling, BIG DATA ANALYTICS, MS-Excel, SAS, R Programming',\n",
              "       'HTML, Bootstrap, C Programming, CSS, Data Analytics, Python, ReactJS, PHP',\n",
              "       'Adobe Photoshop, C Programming, MS-Office, Machine Learning, MySQL, Python, R Programming',\n",
              "       'Algorithms, C Programming, C++ Programming, Machine Learning, Python, BIG DATA ANALYTICS, Computer Vision, Data Analytics, Data Science, Deep Learning, Django, Hadoop, Java, JavaScript, Linux, MS-Excel, Natural Language Processing (NLP), Neural Networks, OpenCV, SQL, R Programming',\n",
              "       'Algorithms, C++ Programming, CSS, Data Structures, HTML, Java, PHP, Python, jQuery, JavaScript',\n",
              "       'MS-Excel, MS-PowerPoint, MS-Word, R Programming, Python, STATA',\n",
              "       'Data Analytics, MS-Office, Python, R Programming, SAS',\n",
              "       'Data Analytics, R Programming, Python, C Programming',\n",
              "       'Algorithms, Articulate Storyline, Audacity, AutoCAD, Data Analytics, Deep Learning, Machine Learning, Natural Language Processing (NLP), Python, SQL',\n",
              "       'Data Analytics, Data Science, MS-Excel, MS-PowerPoint, MS-Word, Machine Learning, Python, R Programming',\n",
              "       'MS-Excel, MS-Office, Python, C Programming, C++ Programming, CSS, Data Analytics, Database Management System (DBMS), Email Marketing, HTML, Java, MS-PowerPoint, MS-Word, Machine Learning, MySQL, R Programming, SQL, Artifical Intelligence, Deep Learning, Neural Networks, WordPress',\n",
              "       'BIG DATA ANALYTICS, Data Analytics, Hadoop, Machine Learning, Python',\n",
              "       'Machine Learning, Python, R Programming, SQL',\n",
              "       'Data Analytics, Database Management System (DBMS), Python, Machine Learning',\n",
              "       'C Programming, MS-Excel, MS-Office, Python, Data Analytics, Machine Learning',\n",
              "       'C Programming, Java, Python',\n",
              "       'C Programming, C++ Programming, Python, R Programming',\n",
              "       'Data Analytics, Data Structures, Deep Learning, Machine Learning, R Programming, Statistical Modeling, Database Management System (DBMS), MS-Excel, MySQL, Python',\n",
              "       'Amazon Web Services (AWS), Cloud Computing, MATLAB, Social Media Marketing',\n",
              "       'Data Analytics, Data Science, Machine Learning, Natural Language Processing (NLP), Python, Deep Learning, Minitab, SQL',\n",
              "       'CSS, Deep Learning, HTML, Java, JavaScript, Machine Learning, Natural Language Processing (NLP), Python, SQL',\n",
              "       'MS-Office, MySQL, Statistical Modeling, English Proficiency (Written), MS-Excel',\n",
              "       'MS SQL Server, MS-Excel, Machine Learning, Python, Statistical Modeling',\n",
              "       'Data Analytics, Data Science, English Proficiency (Spoken), Machine Learning, Python',\n",
              "       'Data Analytics, MS-Excel, MySQL, Python, R Programming',\n",
              "       'Python, Deep Learning, Machine Learning, Natural Language Processing (NLP)',\n",
              "       'Python, SQL, Data Analytics, Deep Learning, Machine Learning, R Programming, Statistical Modeling',\n",
              "       'Python, Database Management System (DBMS), R Programming',\n",
              "       'C Programming, Data Structures, HTML, C++ Programming, CSS, Java, JavaScript, PHP, Python, Database Management System (DBMS)',\n",
              "       'Android, C++ Programming, Data Analytics, Data Structures, Java, Machine Learning, MongoDB, MySQL, Python, Power BI',\n",
              "       'MySQL, Python, Tableau',\n",
              "       'HTML, Python, C++ Programming, CSS, Java, JavaScript, MySQL',\n",
              "       'Machine Learning, AutoCAD, Autodesk Inventor, Data Analytics, Database Management System (DBMS), MySQL, Python, Statistical Modeling, MATLAB, Natural Language Processing (NLP)',\n",
              "       'Minitab, MATLAB, PostgreSQL, Python, R Programming, SQL, Tableau',\n",
              "       'Oracle, SQL, Deep Learning, Machine Learning, Python, Tableau',\n",
              "       'Data Structures, Database Management System (DBMS), MySQL, SQL, ArcGIS, Data Analytics, MS-Excel, Python, R Programming, Statistical Modeling, Machine Learning, Natural Language Processing (NLP)',\n",
              "       'English Proficiency (Spoken), C Programming, Data Analytics, MS-Excel, Machine Learning, Python, SQL, Deep Learning',\n",
              "       'C Programming, C++ Programming, Python',\n",
              "       'English Proficiency (Spoken), MySQL, Python, Statistical Modeling, Data Analytics, Deep Learning, MS-Excel, Machine Learning, Natural Language Processing (NLP)',\n",
              "       'MS-Excel, Machine Learning, Power BI, Python',\n",
              "       'MS-Excel, MS-Office, MS-PowerPoint, Python, R Programming, SAS, SQLite',\n",
              "       'English Proficiency (Spoken), MS-Excel, Statistical Modeling, Telugu Proficiency (Spoken), Data Analytics, Hindi Proficiency (Spoken), Machine Learning, Python, SQL, Deep Learning',\n",
              "       'Mathematics, Python, Data Analytics, Deep Learning, Machine Learning, Natural Language Processing (NLP), OpenCV, Computer Vision, SQL',\n",
              "       'Digital Marketing, Data Analytics, GitHub, Python, Computer Vision, Machine Learning, Natural Language Processing (NLP), R Programming',\n",
              "       'C++ Programming, Data Analytics, Data Science, Database Management System (DBMS), Python, MySQL',\n",
              "       'C Programming, CSS, Data Analytics, HTML, MS-Excel, MS-Office, Machine Learning, Python, R Programming, SQL, Statistical Modeling',\n",
              "       'MS-Excel, MS-Office, MS-PowerPoint, MS-Word, SPSS, Tableau, Data Analytics, Data Science, Machine Learning, MySQL, Power BI, Python, Statistical Modeling, Tally, Natural Language Processing (NLP)',\n",
              "       'SQL, Algorithms, Data Analytics, Data Structures, MS-Excel, Machine Learning, Mathematics, Python',\n",
              "       'CSS, HTML, Adobe Dreamweaver, BIG DATA ANALYTICS, C Programming, Computer Networking, Computer Networks, Data Analytics, Deep Learning, Image Processing, Machine Learning, MongoDB, NoSQL, SQL, C++ Programming, Data Structures, Ethical Hacking, R Programming',\n",
              "       'English Proficiency (Spoken), English Proficiency (Written), Atmel AVR, C++ Programming, Data Structures, Hindi Proficiency (Spoken), Hindi Proficiency (Written), MS-Excel, MS-PowerPoint, MS-Word, Machine Learning, Python, SQL, WordPress, Data Science, Database Management System (DBMS), Natural Language Processing (NLP)',\n",
              "       'Algorithms, Data Structures, Python, C Programming, C#.NET, C++ Programming, Data Analytics, Java, Machine Learning, Mathematics, MongoDB, Natural Language Processing (NLP), PostgreSQL, SQL, Statistical Modeling, Amazon Web Services (AWS), Deep Learning',\n",
              "       'Python, Data Analytics, Data Science, Java, Machine Learning',\n",
              "       'Data Analytics, MS-Excel, MySQL, Python',\n",
              "       'Hadoop, MATLAB, Machine Learning, Neural Networks, Python, R Programming, SQL, Statistical Modeling, Computer Vision, Django, Natural Language Processing (NLP)',\n",
              "       'Deep Learning, MATLAB, Machine Learning, Python',\n",
              "       'MS-Office, BIG DATA ANALYTICS, C Programming, CSS, Data Analytics, Deep Learning, HTML, JavaScript, Machine Learning, PHP, Python, R Programming, Arduino, Embedded Systems, Hadoop, Java, SQL',\n",
              "       'MS-Excel, Financial Modeling, Python, SAP',\n",
              "       'MS-Excel, R Programming, Data Structures, Python, SQL',\n",
              "       'C++ Programming, Linear Programming, Machine Learning, Python, Deep Learning, GNU Octave, Neural Networks, OpenCV',\n",
              "       'Artifical Intelligence, Deep Learning, Machine Learning, Natural Language Processing (NLP), Python',\n",
              "       'C Programming, Python',\n",
              "       'C Programming, Machine Learning, Python, Deep Learning, SQL',\n",
              "       'Deep Learning, Machine Learning, Python, Artifical Intelligence, Natural Language Processing (NLP)',\n",
              "       'HTML, Bootstrap, C Programming, CSS, Java, JavaScript, Machine Learning, PHP, Python',\n",
              "       'Java, Machine Learning, MongoDB, Natural Language Processing (NLP), Python, ReactJS, Computer Vision, Hadoop, Image Processing, Node.js',\n",
              "       'C++ Programming, Data Science, MS-Excel, Python, MATLAB, MySQL',\n",
              "       'C++ Programming, Mathematics, C Programming, MS-Excel, Machine Learning, Python, SQL, Deep Learning, Natural Language Processing (NLP)',\n",
              "       'MongoDB, MySQL, Python, R Programming, Shell Scripting, Apache, C Programming, Hadoop, Node.js, ReactJS, Redux',\n",
              "       'Data Analytics, Data Science, MS-Excel, Machine Learning, Python',\n",
              "       'English Proficiency (Spoken), Artifical Intelligence, Data Analytics, Deep Learning, MS-Excel, MS-Office, MS-PowerPoint, MS-Word, Machine Learning, MySQL, Natural Language Processing (NLP), Neural Networks, PostgreSQL, Python, Statistical Modeling',\n",
              "       'CSS, English Proficiency (Spoken), English Proficiency (Written), HTML, MS-Excel, MS-Office, Machine Learning, Python, R Programming, Java, Natural Language Processing (NLP), SQL',\n",
              "       'AngularJS, CSS, HTML, Java, JavaScript, MySQL, Node.js, ReactJS, Python',\n",
              "       'English Proficiency (Spoken), English Proficiency (Written), Event Management, C Programming, Data Analytics, MS-Excel, MS-Office, MS-PowerPoint, MS-Word, Machine Learning, Physics, Python, SQL, Statistical Modeling',\n",
              "       'MS-Excel, MS-PowerPoint, MS-Word, AutoCAD, Data Analytics, MATLAB, Python, SQL',\n",
              "       'AutoCAD, Machine Learning, Python, R Programming, SQL, Natural Language Processing (NLP)',\n",
              "       'Computer Vision, MATLAB, Machine Learning, Python, C Programming, Data Science, Data Structures, Java',\n",
              "       'HTML, Java, MySQL, SQL, Data Analytics, Database Management System (DBMS), JSP, MS-Excel, Machine Learning, Python, Servlets',\n",
              "       'English Proficiency (Written), Google AdWords, C Programming, C++ Programming, Google Analytics, MS-Office, Machine Learning, Mathematics, Python',\n",
              "       'MS-Excel, C++ Programming, Python, R Programming, SPSS, MATLAB',\n",
              "       'Linear Programming, Mathematics, Algorithms, MS-Office, Python, SQL, Data Analytics, Deep Learning, Machine Learning, MySQL',\n",
              "       'Data Analytics, MS-Excel, Machine Learning, Python, Deep Learning, OpenCV',\n",
              "       'Data Analytics, Deep Learning, Machine Learning, Python, SQL',\n",
              "       'Data Analytics, Deep Learning, English Proficiency (Spoken), MS-Excel, Machine Learning, Python',\n",
              "       'C Programming, Python, C++ Programming, Java, R Programming, Search Engine Optimization (SEO)',\n",
              "       'English Proficiency (Spoken), Data Science, Machine Learning, MySQL, R Programming',\n",
              "       'Machine Learning, Python, Software Testing',\n",
              "       'Bootstrap, CSS, HTML, JavaScript, MySQL',\n",
              "       'Analog And Digital Circuits, Arduino, C Programming, Data Analytics, Data Science, Embedded Systems, MS-Excel, Machine Learning, Python',\n",
              "       'C Programming, Computer Networks, Embedded Systems, Internet of Things (IoT), Mathematics, Algorithms, C++ Programming, Data Structures, Database Management System (DBMS), PHP, Python, SQL',\n",
              "       'Python, Machine Learning, Node.js, PHP',\n",
              "       'Mathematics, SQL, BIG DATA ANALYTICS, Data Analytics, Data Science, Database Management System (DBMS), Deep Learning, English Proficiency (Spoken), English Proficiency (Written), Machine Learning, Natural Language Processing (NLP), Neural Networks, PostgreSQL, Python, Statistical Modeling, Amazon Web Services (AWS), Hadoop',\n",
              "       'C Programming, C++ Programming, Python, Algorithms, Data Structures, Java',\n",
              "       'R Programming, Computer Vision, Data Analytics, Deep Learning, Docker, Git SVN, Hadoop, Java, Machine Learning, Python',\n",
              "       'C Programming, C++ Programming, Data Analytics, HTML, Hadoop, Java, Machine Learning, Python, R Programming, CCNA, CSS, Natural Language Processing (NLP)',\n",
              "       'MS-Excel, PostgreSQL, Python, BIG DATA ANALYTICS, GitHub, Natural Language Processing (NLP), OpenCV, Deep Learning, MongoDB',\n",
              "       'Machine Learning, Python, Data Analytics, MySQL, R Programming, Statistical Modeling',\n",
              "       'Data Analytics, Data Science, English Proficiency (Spoken), English Proficiency (Written), Hindi Proficiency (Spoken), MS-Excel, Machine Learning, Natural Language Processing (NLP), Python',\n",
              "       'Adobe Photoshop, CSS, Computer Vision, Data Analytics, Deep Learning, HTML, JavaScript, MATLAB, Machine Learning, Natural Language Processing (NLP), Python, R Programming, MS-Excel, PHP, jQuery',\n",
              "       'English Proficiency (Spoken), English Proficiency (Written), Hindi Proficiency (Spoken), Hindi Proficiency (Written), MS-Excel, MS-Office, MS-PowerPoint, Report Writing, Data Analytics, Data Science, Machine Learning, MySQL, Python, Salesforce, Tableau',\n",
              "       'HTML, Machine Learning, Oracle, Python, R Programming, SQL, Statistical Modeling, Django, JavaScript',\n",
              "       'C++ Programming, Python, CSS, HTML, Java, JavaScript, SQL',\n",
              "       'MS-Excel, Power BI, Python, SQL, Machine Learning',\n",
              "       'Django, Python, CSS, JavaScript, MongoDB',\n",
              "       'Python, R Programming, MS-Excel, Machine Learning',\n",
              "       'MS-PowerPoint, C Programming, C++ Programming, MS-Excel, MS-Word, Python, Data Analytics, Machine Learning, MySQL',\n",
              "       'MS-Excel, SQL, Python', 'MS-Excel, R Programming, SAS, Python',\n",
              "       'AutoCAD, Data Analytics, MS-Office, Python, SQL, SolidWorks, Machine Learning, Statistical Modeling',\n",
              "       'C++ Programming, Java, MS-Office, Python',\n",
              "       'Event Management, Data Analytics, MS-Excel, MS-Office, Python, Machine Learning',\n",
              "       'C Programming, Data Analytics, Machine Learning, Python, Deep Learning, Java, Natural Language Processing (NLP), SQL',\n",
              "       'HTML, Java, Software Testing',\n",
              "       'C++ Programming, MS-Excel, Python, SQL, Data Analytics, Deep Learning, Flask, Machine Learning, MongoDB, Natural Language Processing (NLP), OpenCV, ReactJS',\n",
              "       'Artifical Intelligence, MS-Excel, Machine Learning, Natural Language Processing (NLP), Neural Networks, Python, R Programming',\n",
              "       'C Programming, Python, Data Structures, Embedded Systems, Internet of Things (IoT), MS-PowerPoint, Data Analytics',\n",
              "       'HTML, JavaScript, PHP',\n",
              "       'C Programming, C++ Programming, HTML, Hadoop, Java, MySQL, PHP, Python',\n",
              "       'Data Analytics, Machine Learning, Python, Artifical Intelligence, Deep Learning, Natural Language Processing (NLP), Computer Vision, Image Processing',\n",
              "       'MS-Excel, Power BI, Python, Data Analytics',\n",
              "       'MS-Excel, Python, Catia, Deep Learning, English Proficiency (Written), Machine Learning, SQL',\n",
              "       'C Programming, C#, Image Processing, Java, OpenCV, Python, Artifical Intelligence, Deep Learning, Machine Learning, Natural Language Processing (NLP), R Programming, SQL',\n",
              "       'MS-PowerPoint, Accounting, MS-Excel, CorelDRAW, MySQL, Python, R Programming',\n",
              "       'C Programming, C++ Programming, Mathematics, Algorithms, Data Science, Data Structures, Java, Python, SQL, Deep Learning, Machine Learning, Natural Language Processing (NLP), Statistical Modeling',\n",
              "       'MS-Excel, MS-Office, Machine Learning, Python, R Programming, SQL, Data Analytics, SPSS',\n",
              "       'C Programming, C++ Programming, Computer Vision, Data Analytics, Data Science, Deep Learning, Machine Learning, Natural Language Processing (NLP), Python, Statistical Modeling',\n",
              "       'Python, Algorithms, Data Structures, Django, Machine Learning, Statistical Modeling',\n",
              "       'MS-Excel, Python, R Programming, C++ Programming, Machine Learning',\n",
              "       'C++ Programming, MS-Excel, MySQL, HTML, JSON, Machine Learning, Python, R Programming',\n",
              "       'Machine Learning, Deep Learning, Natural Language Processing (NLP), Python, R Programming',\n",
              "       'Arduino, C Programming, HTML, Internet of Things (IoT), Java, PHP, Adobe XD, Android, CSS, Firebase, Machine Learning, MySQL, Python, R Programming, WordPress, Adobe Illustrator, Adobe Photoshop, Amazon Web Services (AWS), JavaScript, UI & UX Design, Windows Mobile Application Development, jQuery',\n",
              "       'Arduino, GNU Octave, Internet of Things (IoT), Linux, MATLAB, Computer Vision, GitHub, Image Processing, Machine Learning, OpenCV, Python, Raspberry Pi, Robotics',\n",
              "       'Python, Data Analytics, Data Science, Machine Learning, Natural Language Processing (NLP)',\n",
              "       'MS-Excel, R Programming, C++ Programming, CSS, Flask, HTML, Hadoop, Linear Programming, Machine Learning, Mathematics, MySQL, Python, Django, Image Processing',\n",
              "       'Algorithms, Python, Data Analytics, Machine Learning',\n",
              "       'Data Structures, Python',\n",
              "       'Deep Learning, Machine Learning, Python, R Programming',\n",
              "       'MS-Office, Photography, SAP, SolidWorks, Python, SQL',\n",
              "       'MATLAB, MS-Excel, MS-Office, Arduino, AutoCAD, C Programming, Python, Machine Learning',\n",
              "       'HTML, CSS, Java, Python',\n",
              "       'MS-Excel, BIG DATA ANALYTICS, Data Analytics, Deep Learning, Hadoop, Machine Learning, Natural Language Processing (NLP), Python, R Programming, Amazon Web Server (AWS), Computer Vision, Elasticsearch, HTML, MySQL, SQL',\n",
              "       'Data Analytics, Deep Learning, Machine Learning, Natural Language Processing (NLP), Python',\n",
              "       'PHP, Python',\n",
              "       'English Proficiency (Spoken), Data Analytics, MS-Excel, Python, R Programming, SQL',\n",
              "       'Python',\n",
              "       'Artifical Intelligence, Machine Learning, Natural Language Processing (NLP), Python, SQL',\n",
              "       'C Programming, PostgreSQL, CSS, HTML, JavaScript, Python',\n",
              "       'Statistical Modeling, Computer Vision, Data Analytics, Deep Learning, Machine Learning, Natural Language Processing (NLP), Python',\n",
              "       'Data Analytics, Data Science, Machine Learning, R Programming, SQL, Statistical Modeling, MongoDB, Python',\n",
              "       'Python, SQL',\n",
              "       'MS-Excel, R Programming, Data Analytics, Machine Learning, MongoDB, NoSQL, Python, Tally',\n",
              "       'MS-Excel, Python, R Programming, Data Analytics, Machine Learning, Tableau',\n",
              "       'C++ Programming, Data Science, Java, Machine Learning, Neural Networks, Python, SPSS, SQL, Deep Learning, EAGLE, HTML, LabVIEW, MATLAB',\n",
              "       'Physics, MS-Excel, Python',\n",
              "       'Data Analytics, Data Science, Machine Learning, Power BI, Python, R Programming, SQL, Tableau',\n",
              "       'English Proficiency (Spoken), English Proficiency (Written), MS-PowerPoint, MS-Word, Data Analytics, MS-Excel, MS-Office, R Programming, Python, SPSS, SQL',\n",
              "       'MS-Excel, Machine Learning, Python, R Programming',\n",
              "       'Bootstrap, C Programming, C++ Programming, CSS, HTML, JSP, Data Analytics, Java, MySQL, Python, JavaScript, Machine Learning, MongoDB',\n",
              "       'Deep Learning, MS-Excel, Python, R Programming, SQL, Statistical Modeling, Unix',\n",
              "       'MS-Excel, MS-PowerPoint, ANSYS, Data Analytics, MS-Word, Machine Learning, Mathematics, Python, Deep Learning',\n",
              "       'Data Analytics, Linux, Machine Learning, Python, Algorithms, C Programming, C++ Programming, Computer Vision, Data Structures, Natural Language Processing (NLP)',\n",
              "       'Machine Learning, Statistical Modeling, Artifical Intelligence, C Programming, Python, R Programming, SQL',\n",
              "       'Data Analytics, Database Management System (DBMS), Java, Machine Learning, Python',\n",
              "       'English Proficiency (Spoken), Hindi Proficiency (Spoken), Bootstrap, C Programming, CSS, English Proficiency (Written), HTML, MS-Excel, MS-PowerPoint, MS-Word, Machine Learning, Python, AutoCAD, Data Structures',\n",
              "       'MySQL, Python, R Programming, SAS',\n",
              "       'Machine Learning, MySQL, Python, C++ Programming, MS-Excel',\n",
              "       'C Programming, Database Management System (DBMS), MS-Excel, Machine Learning, Python, R Programming, SQL, Statistical Modeling',\n",
              "       'Computer Vision, Image Processing, Machine Learning, OpenCV, Python',\n",
              "       'C Programming, C++ Programming, C#, Database Management System (DBMS), HTML, JavaScript, Machine Learning, PHP, Python, Unix, .NET, Adobe Photoshop, Artifical Intelligence, Data Analytics, Data Science, Neural Networks',\n",
              "       'MS-Excel, MS-PowerPoint, MS-Word, SQL, Tableau, Machine Learning, Python',\n",
              "       'Algorithms, C Programming, C++ Programming, Data Analytics, Data Structures, Machine Learning, Python',\n",
              "       'Computer Vision, Data Analytics, Deep Learning, Machine Learning, Python, Tableau, Artifical Intelligence, Natural Language Processing (NLP), PostgreSQL, R Programming',\n",
              "       'Bootstrap, C Programming, C++ Programming, Data Structures, GitHub, LaTeX, Python, Data Science',\n",
              "       'MS-Excel, Machine Learning, Python, Hadoop, Java, R Programming',\n",
              "       'Python, Algorithms, Data Analytics, Data Science, Data Structures, Machine Learning, MySQL',\n",
              "       'Arduino, Machine Learning, Python',\n",
              "       'CSS, Computer Vision, Deep Learning, HTML, Machine Learning, Python, WordPress, jQuery, Adobe Photoshop, Data Analytics, Data Science',\n",
              "       'Python, R Programming, SQLite, Tableau',\n",
              "       'C Programming, C++ Programming, Data Structures, Machine Learning, Algorithms, Computer Networks, Data Analytics, Database Management System (DBMS), HTML, Java, SQL, CSS, MATLAB, Natural Language Processing (NLP), Raspberry Pi',\n",
              "       'Deep Learning, Java, Machine Learning, Python, Tableau',\n",
              "       'Python, SQL, Algorithms, C Programming, C++ Programming, CSS, Data Structures, Database Management System (DBMS), HTML, JavaScript, Machine Learning, User Interface (UI) Development, Deep Learning, GitHub, Linux, Oracle',\n",
              "       'Data Analytics, Machine Learning, Natural Language Processing (NLP), Python, SQL',\n",
              "       'C Programming, C++ Programming, Deep Learning, Machine Learning, Python, R Programming, SQL',\n",
              "       'C Programming, C++ Programming, Java, MS-Office, Machine Learning, Python, MS-Excel, MySQL, Statistical Modeling',\n",
              "       'C Programming, C++ Programming, English Proficiency (Spoken), Android, Data Science, Data Structures, Java, JavaScript, Python, Eclipse (IDE), SQL',\n",
              "       'Data Science, English Proficiency (Spoken), Python, Data Analytics, MS-Excel, Machine Learning, R Programming, SQL',\n",
              "       'Data Analytics, Data Science, English Proficiency (Spoken), MS-Excel, Machine Learning, Mathematics, Natural Language Processing (NLP), Python, Statistical Modeling, Amazon Web Server (AWS), C Programming, Cloud Computing, Deep Learning, MATLAB, MongoDB, Neural Networks, R Programming',\n",
              "       'Algorithms, Computer Vision, Data Science, Data Structures, Deep Learning, Machine Learning, Natural Language Processing (NLP), Python, Statistical Modeling, SQLite',\n",
              "       'Data Analytics, Deep Learning, Machine Learning, Python, Artifical Intelligence, C Programming, Computer Vision, Java, Natural Language Processing (NLP)',\n",
              "       'English Proficiency (Spoken), English Proficiency (Written), Hindi Proficiency (Spoken), MS-Word, C++ Programming, Cloud Computing, Data Analytics, Database Management System (DBMS), Hindi Proficiency (Written), Linux, Python, R Programming, SQL, Statistical Modeling, Hadoop, Java',\n",
              "       'C++ Programming, Embedded Systems, MATLAB, SQL, Data Science, Machine Learning, Python, R Programming',\n",
              "       'C Programming, C++ Programming, Computer Networking, Data Structures, Database Management System (DBMS), HTML, Java, PHP, Python, SQL',\n",
              "       'Android, C Programming, Flask, HTML, Java, Python, Data Science, Machine Learning, Natural Language Processing (NLP)',\n",
              "       'Data Analytics, Machine Learning, MS-Excel, Python, Statistical Modeling, Deep Learning, Natural Language Processing (NLP), R Programming, SQL',\n",
              "       'CSS, Deep Learning, Embedded Systems, HTML, Machine Learning, Python, Arduino',\n",
              "       'HTML, OpenCV, Python, SQL, C++ Programming, CSS, Django, MongoDB, REST API',\n",
              "       'Data Analytics, Machine Learning, MySQL, Python',\n",
              "       'MS-Word, Python, Robotics',\n",
              "       'Data Analytics, Python, SQL, .NET, ASP.NET, C#, MS SQL Server, MySQL, R Programming',\n",
              "       'English Proficiency (Spoken), English Proficiency (Written), Hindi Proficiency(Spoken), LaTeX, MS-Excel, MS-PowerPoint, MS-Word, Python, Report Writing, BIG DATA ANALYTICS, Creative Writing, Data Analytics, Event Management, MATLAB, Machine Learning, Physics, SQL, Teaching, WordPress, C++ Programming, Catia, Video Editing',\n",
              "       'MS-Office, Computer Vision, Data Analytics, Deep Learning, MS-Excel, Machine Learning, Natural Language Processing (NLP), Python, SQL',\n",
              "       'Artifical Intelligence, CSS, HTML, Java, Machine Learning, Python, SQL',\n",
              "       'Python, C++ Programming, Data Analytics, Deep Learning, MATLAB, Machine Learning, SQL',\n",
              "       'C Programming, Image Processing, Machine Learning, Natural Language Processing (NLP), OpenCV, Python, R Programming, Deep Learning, MySQL',\n",
              "       'Java, Python, SQL, C Programming',\n",
              "       'MS-Office, Python, Data Science, Machine Learning, SQL',\n",
              "       'Python, R Programming',\n",
              "       'Data Science, C Programming, Data Structures, Machine Learning, Neural Networks, Python, SQL',\n",
              "       'Deep Learning, Machine Learning, Python',\n",
              "       'C Programming, Java, MySQL, PHP, Python',\n",
              "       'Artifical Intelligence, C++ Programming, Deep Learning, Image Processing, Machine Learning, Python',\n",
              "       'Machine Learning, Natural Language Processing (NLP), Python, MATLAB, R Programming',\n",
              "       'Data Analytics, MS-Excel, MS-Office, Machine Learning, Python, R Programming, SQL',\n",
              "       'CSS, Django, HTML, JavaScript, Python',\n",
              "       'Python, Data Structures, Deep Learning, Machine Learning, Statistical Modeling, Natural Language Processing (NLP)',\n",
              "       'Artifical Intelligence, Data Analytics, Deep Learning, MS-Excel, Machine Learning, Python, R Programming',\n",
              "       'English Proficiency (Spoken), English Proficiency (Written), SPSS, Data Analytics, Database Management System (DBMS), MS-Excel, Machine Learning, Report Writing, Adobe Photoshop, PHP, WordPress',\n",
              "       'Django, MS-Excel, Machine Learning, Python, SQL',\n",
              "       'Data Structures, Artifical Intelligence, Database Management System (DBMS), Deep Learning, J2EE, Java, Machine Learning, Python',\n",
              "       'C Programming, MS-Office, Bootstrap, C++ Programming, Data Structures, English Proficiency (Spoken), HTML, MySQL, PHP, Python',\n",
              "       'Bootstrap, CSS, HTML, JavaScript, WordPress, Java, Python',\n",
              "       'C Programming, C++ Programming, Deep Learning, Machine Learning, Natural Language Processing (NLP), Python, R Programming',\n",
              "       'Android, Java, Adobe Photoshop, Machine Learning, Python',\n",
              "       'English Proficiency (Spoken), Data Analytics, MS-Excel, Machine Learning, R Programming, Tableau, Python',\n",
              "       'Data Analytics, Data Science, Machine Learning, Python, R Programming, SQL, Statistical Modeling, Database Management System (DBMS), Deep Learning, MS-Excel, Natural Language Processing (NLP), Neural Networks, OpenCV, Tableau',\n",
              "       'Image Processing, Machine Learning, Mathematics, Python, Computer Vision, Deep Learning, OpenCV, Django',\n",
              "       'C Programming, C++ Programming, Deep Learning, Machine Learning, Python',\n",
              "       'Python, Machine Learning, MySQL',\n",
              "       'HTML, Java, MS-Word, C Programming, Python',\n",
              "       'Artifical Intelligence, Machine Learning, Python, SQL, Statistical Modeling, MongoDB',\n",
              "       'MS-Word, Statistical Modeling, MS-Excel, MS-Office, Mathematics, Python, R Programming, Data Analytics',\n",
              "       'C Programming, Data Structures, Deep Learning, Machine Learning, MySQL, Natural Language Processing (NLP), Python, R Programming, Computer Vision, Django, Hadoop',\n",
              "       'Data Analytics, Machine Learning, Database Management System (DBMS)',\n",
              "       'C Programming, C++ Programming, Python, Java, HTML, JavaScript, SQL',\n",
              "       'Computer Vision, Deep Learning, Image Processing, Neural Networks, Python, Data Analytics',\n",
              "       'AutoCAD, Autodesk Inventor, C Programming, SolidWorks, ANSYS, C++ Programming, GNU Octave, MATLAB, Arduino, Autodesk SketchBook, HTML, Machine Learning, Python',\n",
              "       'BIG DATA ANALYTICS, Data Analytics, Database Management System (DBMS), Linux, Machine Learning, Python, R Programming, SQL, Java',\n",
              "       'MS-Office, C Programming, Python, R Programming, Visual Basic (VB), C++ Programming, MS SQL Server, NoSQL',\n",
              "       'English Proficiency (Spoken), Data Analytics, MS-Excel, Machine Learning, Python, R Programming',\n",
              "       'C Programming, C++ Programming, Data Analytics, Data Structures, Database Management System (DBMS), Python, Machine Learning',\n",
              "       'Data Analytics, English Proficiency (Spoken), Hindi Proficiency (Spoken), MS-Excel, MS-Office, MS-PowerPoint, MS-Word, SQL, C Programming, C++ Programming, Hadoop, Linux, Machine Learning, MySQL, Python, Blockchain, Image Processing',\n",
              "       'English Proficiency (Spoken), English Proficiency (Written), MS-Word, Machine Learning, MySQL, Python, WordPress, Java',\n",
              "       'Algorithms, Cloud Computing, Database Management System (DBMS), MS-Excel, MS-Word, Machine Learning, Mathematics, R Programming, Statistical Modeling, Python, SPSS',\n",
              "       'English Proficiency (Spoken), HTML, Java, MS-Excel, Python, Data Analytics',\n",
              "       'HTML, JavaScript, Data Analytics, Deep Learning, Machine Learning, Neural Networks, Python',\n",
              "       'Android, C Programming, C++ Programming, Computer Networks, Data Structures, Database Management System (DBMS), English Proficiency (Spoken), English Proficiency (Written), HTML, Java, MS-Office, MS-PowerPoint, MS-Word, Adobe Photoshop, CSS, Linux, PHP, Python, XML',\n",
              "       'Machine Learning, Python, SQL, Database Testing, R Programming',\n",
              "       'MS-Excel, MS-Office, MS-PowerPoint, Machine Learning, Python, R Programming, SPSS, Statistical Modeling, C++ Programming, Google Analytics, Six Sigma',\n",
              "       'Data Analytics, MS-Word, Python, Event Management, MS-Office, MS-PowerPoint, R Programming, SQL',\n",
              "       'Deep Learning, Machine Learning, Python, Algorithms, Artifical Intelligence, C Programming, C++ Programming, Computer Vision, GitHub, Java',\n",
              "       'Artifical Intelligence, Django, Python, Deep Learning, Machine Learning',\n",
              "       'C Programming, Data Structures, Database Management System (DBMS), Deep Learning, Machine Learning, Python',\n",
              "       'SAP, Machine Learning, Python',\n",
              "       'Data Science, MS-Excel, MS-Office, Python, R Programming, Machine Learning',\n",
              "       'Linux, Data Analytics, Deep Learning, Image Processing, Java, Machine Learning, PHP, Python, R Programming, Natural Language Processing (NLP), OpenCV, Statistical Modeling',\n",
              "       'C Programming, Internet of Things (IoT), Mathematics, Database Management System (DBMS), HTML, JavaScript, Machine Learning, MySQL, Python, BIG DATA ANALYTICS',\n",
              "       'C Programming, HTML, PHP, Python, AngularJS, JavaScript',\n",
              "       'English Proficiency (Written), Hindi Proficiency (Written), MS-Excel, MS-PowerPoint, MS-Word, Python, Telugu Proficiency (Spoken), Telugu Proficiency (Written), C Programming, Computer Vision, Deep Learning, Digital Signal Processing, English Proficiency (Spoken), Hindi Proficiency (Spoken), Image Processing, LaTeX, MATLAB, Machine Learning, NI Multisim, Neural Networks, OpenCV, Proteus Design Suite, Arduino, Artifical Intelligence, R Programming',\n",
              "       'Algorithms, C Programming, Computer Networking, Data Structures, Database Management System (DBMS), Java, Python, Amazon Web Services (AWS), Bootstrap, Cloud Computing, Linux, Machine Learning, PHP',\n",
              "       'MS-Office, Machine Learning, C Programming, Catia, Neural Networks, Python, R Programming, SAS, SQL',\n",
              "       'Data Structures, Machine Learning, Database Management System (DBMS), Natural Language Processing (NLP), Neural Networks, Python, R Programming, SQL, Statistical Modeling',\n",
              "       'Data Analytics, MS-Excel, Machine Learning, Python, R Programming, SAS, SQL, Statistical Modeling',\n",
              "       'GitHub, Linux, Python, Visual Basic (VB), C++ Programming, Java, JavaScript, SQL',\n",
              "       'MS-Office, MS-PowerPoint, Python, SQL',\n",
              "       'R Programming, BIG DATA ANALYTICS, Java, Machine Learning, Python',\n",
              "       'C Programming, Python, Adobe Illustrator, Java, Adobe Photoshop',\n",
              "       'C Programming, HTML, Java, Python, Android, Data Analytics, Data Science, Golang, JSP, Machine Learning, R Programming, REST API, Software Testing',\n",
              "       'Algorithms, C Programming, C++ Programming, CSS, Data Analytics, Data Structures, HTML, Java, JavaScript, Linux, Machine Learning, Python',\n",
              "       'Adobe Photoshop, HTML, Photography, Python, Adobe Illustrator, CSS, Java, Software Testing',\n",
              "       'English Proficiency (Spoken), Python, Machine Learning, SQL, Deep Learning, Natural Language Processing (NLP)',\n",
              "       'Arduino, C Programming, C++ Programming, Catia, Python, Raspberry Pi',\n",
              "       'C Programming, C++ Programming, Cloud Computing, Data Analytics, Data Science, Photography, Python',\n",
              "       'Mathematics, Data Analytics, English Proficiency (Written), MS-Office, Python, R Programming',\n",
              "       'Computer Vision, Image Processing, Machine Learning, Python',\n",
              "       'English Proficiency (Spoken), MS-Excel, English Proficiency (Written), Machine Learning, Python',\n",
              "       'Deep Learning, Machine Learning, Natural Language Processing (NLP), Python',\n",
              "       'MySQL, C Programming, HTML, Python, CSS',\n",
              "       'Data Science, MS-PowerPoint, MS-Word, Machine Learning, Python, Deep Learning',\n",
              "       'C Programming, C++ Programming, Deep Learning, Machine Learning, Python, SQL',\n",
              "       'Algorithms, C Programming, C++ Programming, CSS, Data Structures, HTML, Machine Learning, Python',\n",
              "       'Computer Vision, Data Analytics, Machine Learning, Python, SQL, MS-Excel',\n",
              "       'Java, Machine Learning, Python',\n",
              "       'Data Analytics, English Proficiency (Spoken), Financial Modeling, MS-Excel, Accounting, Digital Marketing, R Programming',\n",
              "       'English Proficiency (Spoken), Catia, MS-Office, C Programming, C++ Programming, Data Analytics, Java, Machine Learning, Python',\n",
              "       'MS-Excel, SQL, Machine Learning, Python, R Programming',\n",
              "       'Amazon Web Services (AWS), Data Science, Python',\n",
              "       'English Proficiency (Spoken), MS-Excel, Data Analytics, Python, Deep Learning, Machine Learning',\n",
              "       'C++ Programming, Java, Blockchain, C Programming, Python, Servlets, AJAX, CSS, Data Science, HTML, Hibernate (Java), J2EE, JSP, JavaScript, Machine Learning, Neural Networks',\n",
              "       'Machine Learning, Python, Data Analytics, Power BI, SQL',\n",
              "       'Data Analytics, English Proficiency (Spoken), Machine Learning, Python',\n",
              "       'Data Analytics, Linear Programming, MS-Excel, Machine Learning, Python, SQL, Statistical Modeling',\n",
              "       'Data Analytics, Data Science, Python, R Programming, SAS',\n",
              "       'R Programming, MS-Excel, MS-PowerPoint, MS-Word, Python, Hadoop, Java, Linux, Machine Learning',\n",
              "       'Data Analytics, Deep Learning, Machine Learning, MySQL, Python, Statistical Modeling',\n",
              "       'Computer Vision, Data Analytics, MS-Excel, MySQL, Python',\n",
              "       'HTML, C Programming, CSS, Data Analytics, Java, MS-Excel, MySQL, PHP, Python, R Programming, Machine Learning',\n",
              "       'Data Analytics, Data Science, MS-Excel, Machine Learning, R Programming, MongoDB, Python, Statistical Modeling, Tableau',\n",
              "       'MS-Excel, Machine Learning, Python, SQL',\n",
              "       'Deep Learning, Java, Machine Learning, Python',\n",
              "       'MS-PowerPoint, MS-Word, Data Analytics, Python, SQL',\n",
              "       'C Programming, Image Processing, Java, Machine Learning, Python, Neural Networks, SQL',\n",
              "       'Computer Vision, Deep Learning, Machine Learning, Natural Language Processing (NLP), Neural Networks, OpenCV, Python',\n",
              "       'C Programming, Data Science, Database Management System (DBMS), HTML, Machine Learning, OpenCV, Python, Django, MySQL',\n",
              "       'Python, Data Structures, Flask, SQL, R Programming',\n",
              "       'HTML, MS-Office, Adobe Flash, Algorithms, C++ Programming, Data Structures, Eclipse (IDE), GitHub, Java, Linux, Machine Learning, MySQL, Node.js, PHP, Robotics, Software Testing, Android, Kotlin, Python',\n",
              "       'Algorithms, C++ Programming, Data Structures, Deep Learning, Machine Learning, OpenCV, Python',\n",
              "       'C Programming, Java, MS-Word, Python, Cloud Computing, Django, Image Processing, MS-Office, SQL, JavaScript, PHP',\n",
              "       'Adobe Photoshop, MS-Office, ANSYS, Adobe Illustrator, Java, MATLAB, SPSS',\n",
              "       'Data Analytics, Machine Learning, Python, SQL',\n",
              "       'English Proficiency (Spoken), English Proficiency (Written), Data Science, Digital Marketing, Event Management, Machine Learning, Python',\n",
              "       'C Programming, C++ Programming, Catia, Data Analytics, Data Science, MS-Excel, MS-Office, MySQL, SAP, SolidWorks, Algorithms, Python, R Programming, Statistical Modeling, Tableau',\n",
              "       'C Programming, C++ Programming, MySQL, Neural Networks, Oracle, Python, Data Analytics, Data Science, Deep Learning, Machine Learning',\n",
              "       'MS-Excel, Python, R Programming, SQL',\n",
              "       'C++ Programming, Java, Adobe XD, Data Science, Python',\n",
              "       'Algorithms, Data Structures, Java, Artifical Intelligence, Machine Learning, Neural Networks',\n",
              "       'Deep Learning, Machine Learning, OpenCV, C++ Programming, Computer Vision, Java, MySQL, Natural Language Processing (NLP), Python, R Programming, Statistical Modeling, BIG DATA ANALYTICS, C Programming, CSS, HTML',\n",
              "       'Deep Learning, Machine Learning, Python, Data Analytics, Natural Language Processing (NLP)',\n",
              "       'MS-Excel, MS-Office, MS-Word, Deep Learning, GNU Octave, MATLAB, Machine Learning, Neural Networks, Python, R Programming, Java, SQL',\n",
              "       'C++ Programming, Hadoop, Machine Learning, BIG DATA ANALYTICS, Deep Learning, MS-Excel, Neural Networks, Python, R Programming, SAS',\n",
              "       'JavaScript, SQL, C Programming, CSS, Data Analytics, Data Structures, Database Management System (DBMS), Deep Learning, HTML, Image Processing, Java, MS-Excel, Machine Learning, Natural Language Processing (NLP), Node.js, PHP, Power BI, Python, R Programming, User Interface (UI) Development',\n",
              "       'Machine Learning, R Programming',\n",
              "       'MySQL, Java, SQL, Data Analytics, MS-Excel, Machine Learning, Python',\n",
              "       'CSS, HTML, Arduino, Bootstrap, C Programming, Deep Learning, GitHub, Java, Machine Learning, Python, User Interface (UI) Development, Algorithms, Android, JavaScript',\n",
              "       'Deep Learning, Machine Learning, Neural Networks, PostgreSQL, Python, Flask, MATLAB, MongoDB, R Programming',\n",
              "       'CSS, HTML, MS-Excel, MS-PowerPoint, PHP, Python, SPSS, SQL, WordPress, Machine Learning',\n",
              "       'MS-Excel, Python, R Programming',\n",
              "       'Data Analytics, MS-Office, MS-Excel, Machine Learning, Neural Networks, Python, Statistical Modeling, Adobe Photoshop, Deep Learning, SQL',\n",
              "       'Data Analytics, HTML, MS-Excel, MS-PowerPoint, MS-Word, Database Management System (DBMS), Mathematics, MySQL, PHP, REST API, Software Testing, Python, Statistical Modeling',\n",
              "       'Python, Tableau, Deep Learning, Machine Learning',\n",
              "       'Data Analytics, English Proficiency (Spoken), ANSYS, C Programming, MS-Excel, Machine Learning, Python, SQL, Statistical Modeling',\n",
              "       'CSS, HTML, REST API, AJAX, ASP.NET, Angular 2.0, C#, GitHub, JavaScript, jQuery, Artifical Intelligence, Machine Learning, Python',\n",
              "       'Data Analytics, MS-PowerPoint, MS-Word, Machine Learning, Mathematics, Statistical Modeling, Algorithms, Data Structures, Database Management System (DBMS), Linux, MS-Excel, MySQL, Python, SQL, Deep Learning, Power BI',\n",
              "       'Software Testing',\n",
              "       'English Proficiency (Spoken), MS-Excel, Python, Data Analytics, Machine Learning',\n",
              "       'Android, Bootstrap, C++ Programming, CSS, HTML, Java, SQL, Angular 2.0, Firebase, JavaScript, Node.js, Python',\n",
              "       'HTML, Java, Python',\n",
              "       'C++ Programming, Data Structures, Python, SQL, Java',\n",
              "       'English Proficiency (Spoken), MS-Office, .NET, Digital Marketing, SAP',\n",
              "       'English Proficiency (Spoken), MS-Excel, Machine Learning, Python, Data Analytics, SQL',\n",
              "       'Flask, MS-Excel, Machine Learning, Python, CSS, Data Analytics, GitHub, HTML, MongoDB, MySQL, SQL',\n",
              "       'Deep Learning, MS-Excel, Machine Learning, Python, Statistical Modeling',\n",
              "       'MS-Excel, HTML, Python, SQL',\n",
              "       'Data Analytics, Machine Learning, Natural Language Processing (NLP), Python, R Programming, SQL, Statistical Modeling, Computer Vision',\n",
              "       'Data Analytics, Machine Learning, Python, C Programming, C++ Programming, Database Management System (DBMS), Deep Learning, MS-Excel, MySQL, Natural Language Processing (NLP), Neural Networks, R Programming, Statistical Modeling',\n",
              "       'Computer Vision, Data Analytics, Image Processing, Machine Learning, Mathematics, MongoDB, Natural Language Processing (NLP), Python, R Programming, Statistical Modeling, Cloud Computing, Hadoop, MySQL'],\n",
              "      dtype=object)"
            ]
          },
          "metadata": {
            "tags": []
          },
          "execution_count": 23
        }
      ]
    },
    {
      "cell_type": "code",
      "metadata": {
        "id": "q7-4Hz9y-rOk",
        "colab_type": "code",
        "colab": {}
      },
      "source": [
        ""
      ],
      "execution_count": 0,
      "outputs": []
    },
    {
      "cell_type": "code",
      "metadata": {
        "id": "W3ddAv29-rg4",
        "colab_type": "code",
        "outputId": "180b7405-550d-44f5-f753-099ba558f4e0",
        "colab": {
          "base_uri": "https://localhost:8080/",
          "height": 68
        }
      },
      "source": [
        "df_text = pd.DataFrame({'final_input_text':['hello my name is Bob','I like the name Bob']})\n",
        "#print(df_text)\n",
        "df_text['final_input_text']"
      ],
      "execution_count": 24,
      "outputs": [
        {
          "output_type": "execute_result",
          "data": {
            "text/plain": [
              "0    hello my name is Bob\n",
              "1     I like the name Bob\n",
              "Name: final_input_text, dtype: object"
            ]
          },
          "metadata": {
            "tags": []
          },
          "execution_count": 24
        }
      ]
    },
    {
      "cell_type": "code",
      "metadata": {
        "id": "cAlWNr4F-x_h",
        "colab_type": "code",
        "outputId": "b619d7a8-3d2d-4823-ef99-aecb9218c7e3",
        "colab": {
          "base_uri": "https://localhost:8080/",
          "height": 51
        }
      },
      "source": [
        "words_to_match = ['name', 'Bob', 'hello', 'world']\n",
        "for index, row in df_text.iterrows():\n",
        "    count = 0\n",
        "    for word in row[0].split(' '):\n",
        "        if word in words_to_match :\n",
        "            count = count + 1\n",
        "    print(count)"
      ],
      "execution_count": 25,
      "outputs": [
        {
          "output_type": "stream",
          "text": [
            "3\n",
            "2\n"
          ],
          "name": "stdout"
        }
      ]
    },
    {
      "cell_type": "code",
      "metadata": {
        "id": "L71jwG5bAdag",
        "colab_type": "code",
        "colab": {}
      },
      "source": [
        "st = ['Machine Learning','SQL','Data Analytics','MySQL','Deep Learning','Statistical Modeling','Neural Networks','PostgreSQL','MongoDB']"
      ],
      "execution_count": 0,
      "outputs": []
    },
    {
      "cell_type": "code",
      "metadata": {
        "id": "GaRPVnckXFoc",
        "colab_type": "code",
        "colab": {
          "base_uri": "https://localhost:8080/",
          "height": 51
        },
        "outputId": "46d42005-8d4c-44d4-b994-2e235154e463"
      },
      "source": [
        "for index, row in sk.items():\n",
        "    count = 0\n",
        "    i = 0\n",
        "    for word in row[i].split(','):\n",
        "        if word in st :\n",
        "            count = count + 1\n",
        "        i = i + 1\n",
        "    print(count)\n",
        "    print(word)"
      ],
      "execution_count": 32,
      "outputs": [
        {
          "output_type": "stream",
          "text": [
            "1\n",
            " Python\n"
          ],
          "name": "stdout"
        }
      ]
    },
    {
      "cell_type": "code",
      "metadata": {
        "id": "4DNo08nwa8lD",
        "colab_type": "code",
        "colab": {}
      },
      "source": [
        ""
      ],
      "execution_count": 0,
      "outputs": []
    },
    {
      "cell_type": "code",
      "metadata": {
        "id": "bO551zmUBvh_",
        "colab_type": "code",
        "outputId": "44dc5711-4d0a-48d5-aef5-bd61893ade00",
        "colab": {
          "base_uri": "https://localhost:8080/",
          "height": 1000
        }
      },
      "source": [
        "for index, row in sk.iterrows():\n",
        "    count = 0\n",
        "    for word in row[0].split(','):\n",
        "      print (word)"
      ],
      "execution_count": 28,
      "outputs": [
        {
          "output_type": "stream",
          "text": [
            "Machine Learning\n",
            " Arduino\n",
            " C Programming\n",
            " CSS\n",
            " Data Analytics\n",
            " Data Structures\n",
            " Deep Learning\n",
            " HTML\n",
            " Natural Language Processing (NLP)\n",
            " MATLAB\n",
            " Python\n",
            "AutoCAD\n",
            " MS-Office\n",
            " Machine Learning\n",
            " Microsoft Azure\n",
            " MySQL\n",
            " Python\n",
            " SolidWorks\n",
            " Deep Learning\n",
            " R Programming\n",
            "C++ Programming\n",
            " Data Structures\n",
            " Image Processing\n",
            " Python\n",
            "Algorithms\n",
            " C++ Programming\n",
            " Data Structures\n",
            " Natural Language Processing (NLP)\n",
            " CSS\n",
            " Computer Vision\n",
            " Deep Learning\n",
            " HTML\n",
            " Java\n",
            " Machine Learning\n",
            " MySQL\n",
            " Python\n",
            " Android\n",
            "MS-Word\n",
            " Python\n",
            " SQL\n",
            " MS-Excel\n",
            "C Programming\n",
            " C++ Programming\n",
            " CSS\n",
            " GitHub\n",
            " HTML\n",
            " MS-Office\n",
            " Python\n",
            " R Programming\n",
            " SQL\n",
            " JavaScript\n",
            " STATA\n",
            "C++ Programming\n",
            " Deep Learning\n",
            " Machine Learning\n",
            "Natural Language Processing (NLP)\n",
            " Python\n",
            " R Programming\n",
            " SQL\n",
            "Computer Vision\n",
            " Image Processing\n",
            " MySQL\n",
            " OpenCV\n",
            " Python\n",
            " Deep Learning\n",
            " Machine Learning\n",
            "CSS\n",
            " HTML\n",
            " JavaScript\n",
            " PostgreSQL\n",
            "English Proficiency (Spoken)\n",
            " MS-Excel\n",
            " Data Analytics\n",
            " Machine Learning\n",
            " Python\n",
            "MS-Excel\n",
            " MS-Office\n",
            " SPSS\n",
            " Data Science\n",
            " Machine Learning\n",
            " R Programming\n",
            " SQL\n",
            " Python\n",
            "C Programming\n",
            " Eclipse (IDE)\n",
            " Java\n",
            " Database Management System (DBMS)\n",
            " HTML\n",
            " Linux\n",
            " SQL\n",
            "AutoCAD\n",
            " MS-Office\n",
            " Catia\n",
            " SolidWorks\n",
            "Machine Learning\n",
            " Python\n",
            " MySQL\n",
            " Statistical Modeling\n",
            " Tableau\n",
            "AutoCAD\n",
            " Embedded Systems\n",
            " MATLAB\n",
            "Bootstrap\n",
            " C Programming\n",
            " Flask\n",
            " HTML\n",
            " LARAVEL\n",
            " MySQL\n",
            " Node.js\n",
            " PHP\n",
            " PostgreSQL\n",
            " Python\n",
            " SQL\n",
            " Stripe Payment API\n",
            " Video Editing\n",
            " Data Analytics\n",
            " GitHub\n",
            " Heroku\n",
            " Image Processing\n",
            " Machine Learning\n",
            "Data Analytics\n",
            " MS-Excel\n",
            "C Programming\n",
            " Data Analytics\n",
            " Data Science\n",
            " Java\n",
            " Machine Learning\n",
            " Natural Language Processing (NLP)\n",
            " Python\n",
            " SQL\n",
            " Unix\n",
            " HTML\n",
            "HTML\n",
            " MS-Excel\n",
            " SQL\n",
            " Android\n",
            " JavaScript\n",
            " PHP\n",
            " Python\n",
            "Data Analytics\n",
            " Embedded Systems\n",
            " Machine Learning\n",
            " Python\n",
            " R Programming\n",
            "Algorithms\n",
            " C Programming\n",
            " Data Structures\n",
            " Database Management System (DBMS)\n",
            " Java\n",
            " Linux\n",
            " Python\n",
            "Python\n",
            " SQL\n",
            " Amazon Web Services (AWS)\n",
            " Apache Cassandra\n",
            " Apache Kafka\n",
            " BIG DATA ANALYTICS\n",
            " Cloud Computing\n",
            " Database Management System (DBMS)\n",
            " Hadoop\n",
            " Linux\n",
            " MongoDB\n",
            " Shell Scripting\n",
            "Python\n",
            " Machine Learning\n",
            " SQL\n",
            " R Programming\n",
            "Python\n",
            " Data Analytics\n",
            " Data Science\n",
            " MS-PowerPoint\n",
            " MS-Word\n",
            " Machine Learning\n",
            " Mathematics\n",
            " Video Editing\n",
            " C Programming\n",
            " Data Structures\n",
            " Database Management System (DBMS)\n",
            " MS SQL Server\n",
            " MySQL\n",
            " SQL\n"
          ],
          "name": "stdout"
        },
        {
          "output_type": "error",
          "ename": "AttributeError",
          "evalue": "ignored",
          "traceback": [
            "\u001b[0;31m---------------------------------------------------------------------------\u001b[0m",
            "\u001b[0;31mAttributeError\u001b[0m                            Traceback (most recent call last)",
            "\u001b[0;32m<ipython-input-28-46eb3a360e16>\u001b[0m in \u001b[0;36m<module>\u001b[0;34m()\u001b[0m\n\u001b[1;32m      1\u001b[0m \u001b[0;32mfor\u001b[0m \u001b[0mindex\u001b[0m\u001b[0;34m,\u001b[0m \u001b[0mrow\u001b[0m \u001b[0;32min\u001b[0m \u001b[0msk\u001b[0m\u001b[0;34m.\u001b[0m\u001b[0miterrows\u001b[0m\u001b[0;34m(\u001b[0m\u001b[0;34m)\u001b[0m\u001b[0;34m:\u001b[0m\u001b[0;34m\u001b[0m\u001b[0;34m\u001b[0m\u001b[0m\n\u001b[1;32m      2\u001b[0m     \u001b[0mcount\u001b[0m \u001b[0;34m=\u001b[0m \u001b[0;36m0\u001b[0m\u001b[0;34m\u001b[0m\u001b[0;34m\u001b[0m\u001b[0m\n\u001b[0;32m----> 3\u001b[0;31m     \u001b[0;32mfor\u001b[0m \u001b[0mword\u001b[0m \u001b[0;32min\u001b[0m \u001b[0mrow\u001b[0m\u001b[0;34m[\u001b[0m\u001b[0;36m0\u001b[0m\u001b[0;34m]\u001b[0m\u001b[0;34m.\u001b[0m\u001b[0msplit\u001b[0m\u001b[0;34m(\u001b[0m\u001b[0;34m','\u001b[0m\u001b[0;34m)\u001b[0m\u001b[0;34m:\u001b[0m\u001b[0;34m\u001b[0m\u001b[0;34m\u001b[0m\u001b[0m\n\u001b[0m\u001b[1;32m      4\u001b[0m       \u001b[0mprint\u001b[0m \u001b[0;34m(\u001b[0m\u001b[0mword\u001b[0m\u001b[0;34m)\u001b[0m\u001b[0;34m\u001b[0m\u001b[0;34m\u001b[0m\u001b[0m\n",
            "\u001b[0;31mAttributeError\u001b[0m: 'float' object has no attribute 'split'"
          ]
        }
      ]
    },
    {
      "cell_type": "code",
      "metadata": {
        "colab_type": "code",
        "id": "aY4q-PjCDWEI",
        "colab": {}
      },
      "source": [
        "for index, row in sk.iteritems():\n",
        "    count = 0\n",
        "    for word in row[0].split(','):\n",
        "        if word in st :\n",
        "            count = count + 1\n",
        "    print(count)"
      ],
      "execution_count": 0,
      "outputs": []
    }
  ]
}
