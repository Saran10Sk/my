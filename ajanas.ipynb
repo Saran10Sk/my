{
  "nbformat": 4,
  "nbformat_minor": 0,
  "metadata": {
    "colab": {
      "name": "anjans.ipynb",
      "provenance": [],
      "collapsed_sections": [],
      "authorship_tag": "ABX9TyOXrEhyhheWyMh58K7gwDxx",
      "include_colab_link": true
    },
    "kernelspec": {
      "name": "python3",
      "display_name": "Python 3"
    }
  },
  "cells": [
    {
      "cell_type": "markdown",
      "metadata": {
        "id": "view-in-github",
        "colab_type": "text"
      },
      "source": [
        "<a href=\"https://colab.research.google.com/github/Saran10Sk/my/blob/master/ajanas.ipynb\" target=\"_parent\"><img src=\"https://colab.research.google.com/assets/colab-badge.svg\" alt=\"Open In Colab\"/></a>"
      ]
    },
    {
      "cell_type": "code",
      "metadata": {
        "id": "Y8Sz6V6HcT48",
        "colab_type": "code",
        "outputId": "731ab422-f917-4b72-b365-524f07ef1dff",
        "colab": {
          "base_uri": "https://localhost:8080/",
          "height": 34
        }
      },
      "source": [
        "from google.colab import drive\n",
        "drive.mount('/content/gdrive')"
      ],
      "execution_count": 1,
      "outputs": [
        {
          "output_type": "stream",
          "text": [
            "Drive already mounted at /content/gdrive; to attempt to forcibly remount, call drive.mount(\"/content/gdrive\", force_remount=True).\n"
          ],
          "name": "stdout"
        }
      ]
    },
    {
      "cell_type": "code",
      "metadata": {
        "id": "5axCrdM3hySf",
        "colab_type": "code",
        "colab": {}
      },
      "source": [
        "import pandas as pd\n",
        "from pandas import DataFrame"
      ],
      "execution_count": 0,
      "outputs": []
    },
    {
      "cell_type": "code",
      "metadata": {
        "id": "ROThbSoYeppg",
        "colab_type": "code",
        "colab": {}
      },
      "source": [
        "data = pd.read_excel('/content/gdrive/My Drive/my_data/Data_Science_2020_v2.xlsx',engine='openpyxl')"
      ],
      "execution_count": 0,
      "outputs": []
    },
    {
      "cell_type": "code",
      "metadata": {
        "id": "HylAc5BUkGYc",
        "colab_type": "code",
        "outputId": "bdd4c708-f91f-4d11-b62d-5c7e9d5e7e31",
        "colab": {
          "base_uri": "https://localhost:8080/",
          "height": 102
        }
      },
      "source": [
        "data.columns"
      ],
      "execution_count": 4,
      "outputs": [
        {
          "output_type": "execute_result",
          "data": {
            "text/plain": [
              "Index(['Application_ID', 'Current City', 'Python (out of 3)',\n",
              "       'R Programming (out of 3)', 'Data Science (out of 3)', 'Other skills',\n",
              "       'Institute', 'Degree', 'Stream', 'Current Year Of Graduation',\n",
              "       'Performance_PG', 'Performance_UG', 'Performance_12', 'Performance_10'],\n",
              "      dtype='object')"
            ]
          },
          "metadata": {
            "tags": []
          },
          "execution_count": 4
        }
      ]
    },
    {
      "cell_type": "code",
      "metadata": {
        "id": "Foq66HCQmwt3",
        "colab_type": "code",
        "outputId": "ab23ab8c-8ff6-4d31-fd3d-6379d205ed0e",
        "colab": {
          "base_uri": "https://localhost:8080/",
          "height": 419
        }
      },
      "source": [
        "data[['Degree','Current Year Of Graduation']]"
      ],
      "execution_count": 5,
      "outputs": [
        {
          "output_type": "execute_result",
          "data": {
            "text/html": [
              "<div>\n",
              "<style scoped>\n",
              "    .dataframe tbody tr th:only-of-type {\n",
              "        vertical-align: middle;\n",
              "    }\n",
              "\n",
              "    .dataframe tbody tr th {\n",
              "        vertical-align: top;\n",
              "    }\n",
              "\n",
              "    .dataframe thead th {\n",
              "        text-align: right;\n",
              "    }\n",
              "</style>\n",
              "<table border=\"1\" class=\"dataframe\">\n",
              "  <thead>\n",
              "    <tr style=\"text-align: right;\">\n",
              "      <th></th>\n",
              "      <th>Degree</th>\n",
              "      <th>Current Year Of Graduation</th>\n",
              "    </tr>\n",
              "  </thead>\n",
              "  <tbody>\n",
              "    <tr>\n",
              "      <th>0</th>\n",
              "      <td>Bachelor of Engineering (B.E)</td>\n",
              "      <td>2019</td>\n",
              "    </tr>\n",
              "    <tr>\n",
              "      <th>1</th>\n",
              "      <td>NaN</td>\n",
              "      <td>2020</td>\n",
              "    </tr>\n",
              "    <tr>\n",
              "      <th>2</th>\n",
              "      <td>Bachelor of Technology (B.Tech)</td>\n",
              "      <td>2018</td>\n",
              "    </tr>\n",
              "    <tr>\n",
              "      <th>3</th>\n",
              "      <td>Integrated M.Tech</td>\n",
              "      <td>2021</td>\n",
              "    </tr>\n",
              "    <tr>\n",
              "      <th>4</th>\n",
              "      <td>Bachelor of Engineering (B.E)</td>\n",
              "      <td>2018</td>\n",
              "    </tr>\n",
              "    <tr>\n",
              "      <th>...</th>\n",
              "      <td>...</td>\n",
              "      <td>...</td>\n",
              "    </tr>\n",
              "    <tr>\n",
              "      <th>606</th>\n",
              "      <td>Bachelor of Engineering (B.E)</td>\n",
              "      <td>2020</td>\n",
              "    </tr>\n",
              "    <tr>\n",
              "      <th>607</th>\n",
              "      <td>PG Diploma in Data Science</td>\n",
              "      <td>2020</td>\n",
              "    </tr>\n",
              "    <tr>\n",
              "      <th>608</th>\n",
              "      <td>Bachelor of Technology (B.Tech)</td>\n",
              "      <td>2016</td>\n",
              "    </tr>\n",
              "    <tr>\n",
              "      <th>609</th>\n",
              "      <td>Bachelor of Science (B.Sc)</td>\n",
              "      <td>2018</td>\n",
              "    </tr>\n",
              "    <tr>\n",
              "      <th>610</th>\n",
              "      <td>Master of Technology (M.Tech)</td>\n",
              "      <td>2016</td>\n",
              "    </tr>\n",
              "  </tbody>\n",
              "</table>\n",
              "<p>611 rows × 2 columns</p>\n",
              "</div>"
            ],
            "text/plain": [
              "                              Degree  Current Year Of Graduation\n",
              "0      Bachelor of Engineering (B.E)                        2019\n",
              "1                                NaN                        2020\n",
              "2    Bachelor of Technology (B.Tech)                        2018\n",
              "3                  Integrated M.Tech                        2021\n",
              "4      Bachelor of Engineering (B.E)                        2018\n",
              "..                               ...                         ...\n",
              "606    Bachelor of Engineering (B.E)                        2020\n",
              "607       PG Diploma in Data Science                        2020\n",
              "608  Bachelor of Technology (B.Tech)                        2016\n",
              "609       Bachelor of Science (B.Sc)                        2018\n",
              "610    Master of Technology (M.Tech)                        2016\n",
              "\n",
              "[611 rows x 2 columns]"
            ]
          },
          "metadata": {
            "tags": []
          },
          "execution_count": 5
        }
      ]
    },
    {
      "cell_type": "code",
      "metadata": {
        "id": "NsxSt8cIlyOc",
        "colab_type": "code",
        "colab": {}
      },
      "source": [
        "################program weightage#############################"
      ],
      "execution_count": 0,
      "outputs": []
    },
    {
      "cell_type": "code",
      "metadata": {
        "id": "QcB6yoXzmx0L",
        "colab_type": "code",
        "colab": {}
      },
      "source": [
        "fd = data[['Python (out of 3)','R Programming (out of 3)','Data Science (out of 3)']].copy()"
      ],
      "execution_count": 0,
      "outputs": []
    },
    {
      "cell_type": "code",
      "metadata": {
        "id": "WllAYy9znjeU",
        "colab_type": "code",
        "outputId": "3bd4d2c8-3956-4706-85ba-65cb67b6774e",
        "colab": {
          "base_uri": "https://localhost:8080/",
          "height": 419
        }
      },
      "source": [
        "fd"
      ],
      "execution_count": 8,
      "outputs": [
        {
          "output_type": "execute_result",
          "data": {
            "text/html": [
              "<div>\n",
              "<style scoped>\n",
              "    .dataframe tbody tr th:only-of-type {\n",
              "        vertical-align: middle;\n",
              "    }\n",
              "\n",
              "    .dataframe tbody tr th {\n",
              "        vertical-align: top;\n",
              "    }\n",
              "\n",
              "    .dataframe thead th {\n",
              "        text-align: right;\n",
              "    }\n",
              "</style>\n",
              "<table border=\"1\" class=\"dataframe\">\n",
              "  <thead>\n",
              "    <tr style=\"text-align: right;\">\n",
              "      <th></th>\n",
              "      <th>Python (out of 3)</th>\n",
              "      <th>R Programming (out of 3)</th>\n",
              "      <th>Data Science (out of 3)</th>\n",
              "    </tr>\n",
              "  </thead>\n",
              "  <tbody>\n",
              "    <tr>\n",
              "      <th>0</th>\n",
              "      <td>1</td>\n",
              "      <td>0</td>\n",
              "      <td>3</td>\n",
              "    </tr>\n",
              "    <tr>\n",
              "      <th>1</th>\n",
              "      <td>2</td>\n",
              "      <td>1</td>\n",
              "      <td>2</td>\n",
              "    </tr>\n",
              "    <tr>\n",
              "      <th>2</th>\n",
              "      <td>2</td>\n",
              "      <td>0</td>\n",
              "      <td>0</td>\n",
              "    </tr>\n",
              "    <tr>\n",
              "      <th>3</th>\n",
              "      <td>2</td>\n",
              "      <td>0</td>\n",
              "      <td>2</td>\n",
              "    </tr>\n",
              "    <tr>\n",
              "      <th>4</th>\n",
              "      <td>2</td>\n",
              "      <td>0</td>\n",
              "      <td>0</td>\n",
              "    </tr>\n",
              "    <tr>\n",
              "      <th>...</th>\n",
              "      <td>...</td>\n",
              "      <td>...</td>\n",
              "      <td>...</td>\n",
              "    </tr>\n",
              "    <tr>\n",
              "      <th>606</th>\n",
              "      <td>2</td>\n",
              "      <td>2</td>\n",
              "      <td>2</td>\n",
              "    </tr>\n",
              "    <tr>\n",
              "      <th>607</th>\n",
              "      <td>1</td>\n",
              "      <td>0</td>\n",
              "      <td>0</td>\n",
              "    </tr>\n",
              "    <tr>\n",
              "      <th>608</th>\n",
              "      <td>2</td>\n",
              "      <td>2</td>\n",
              "      <td>0</td>\n",
              "    </tr>\n",
              "    <tr>\n",
              "      <th>609</th>\n",
              "      <td>3</td>\n",
              "      <td>2</td>\n",
              "      <td>2</td>\n",
              "    </tr>\n",
              "    <tr>\n",
              "      <th>610</th>\n",
              "      <td>2</td>\n",
              "      <td>2</td>\n",
              "      <td>0</td>\n",
              "    </tr>\n",
              "  </tbody>\n",
              "</table>\n",
              "<p>611 rows × 3 columns</p>\n",
              "</div>"
            ],
            "text/plain": [
              "     Python (out of 3)  R Programming (out of 3)  Data Science (out of 3)\n",
              "0                    1                         0                        3\n",
              "1                    2                         1                        2\n",
              "2                    2                         0                        0\n",
              "3                    2                         0                        2\n",
              "4                    2                         0                        0\n",
              "..                 ...                       ...                      ...\n",
              "606                  2                         2                        2\n",
              "607                  1                         0                        0\n",
              "608                  2                         2                        0\n",
              "609                  3                         2                        2\n",
              "610                  2                         2                        0\n",
              "\n",
              "[611 rows x 3 columns]"
            ]
          },
          "metadata": {
            "tags": []
          },
          "execution_count": 8
        }
      ]
    },
    {
      "cell_type": "code",
      "metadata": {
        "id": "IcqM63Eps2rp",
        "colab_type": "code",
        "outputId": "21be27c1-f9e7-408b-861f-3d0ec9eae7dc",
        "colab": {
          "base_uri": "https://localhost:8080/",
          "height": 54
        }
      },
      "source": [
        "'''\n",
        "fd['python_score'] = ''\n",
        "fd.loc[(fd['Python (out of 3)'] > 0) & (fd['Python (out of 3)'] <= 1), 'weitage'] = 3\n",
        "fd.loc[(fd['Python (out of 3)'] > 1) & (fd['Python (out of 3)'] <= 2), 'weitage'] = 7\n",
        "fd.loc[(fd['Python (out of 3)'] > 2) & (fd['Python (out of 3)'] <= 3), 'weitage'] = 10\n",
        "print (fd['python_score'])\n",
        "'''"
      ],
      "execution_count": 9,
      "outputs": [
        {
          "output_type": "execute_result",
          "data": {
            "text/plain": [
              "\"\\nfd['python_score'] = ''\\nfd.loc[(fd['Python (out of 3)'] > 0) & (fd['Python (out of 3)'] <= 1), 'weitage'] = 3\\nfd.loc[(fd['Python (out of 3)'] > 1) & (fd['Python (out of 3)'] <= 2), 'weitage'] = 7\\nfd.loc[(fd['Python (out of 3)'] > 2) & (fd['Python (out of 3)'] <= 3), 'weitage'] = 10\\nprint (fd['python_score'])\\n\""
            ]
          },
          "metadata": {
            "tags": []
          },
          "execution_count": 9
        }
      ]
    },
    {
      "cell_type": "code",
      "metadata": {
        "id": "C04kvsBAnbUp",
        "colab_type": "code",
        "colab": {}
      },
      "source": [
        "fd['python_score'] = 0\n",
        "fd.loc[(fd['Python (out of 3)'] > 0) & (fd['Python (out of 3)'] <= 1), 'python_score'] = 3\n",
        "fd.loc[(fd['Python (out of 3)'] > 1) & (fd['Python (out of 3)'] <= 2), 'python_score'] = 7\n",
        "fd.loc[(fd['Python (out of 3)'] > 2) & (fd['Python (out of 3)'] <= 3), 'python_score'] = 10"
      ],
      "execution_count": 0,
      "outputs": []
    },
    {
      "cell_type": "code",
      "metadata": {
        "id": "k7Ugzp_tucCf",
        "colab_type": "code",
        "colab": {}
      },
      "source": [
        "fd['R_score'] = 0\n",
        "fd.loc[(fd['R Programming (out of 3)'] > 0) & (fd['R Programming (out of 3)'] <= 1), 'R_score'] = 3\n",
        "fd.loc[(fd['R Programming (out of 3)'] > 1) & (fd['R Programming (out of 3)'] <= 2), 'R_score'] = 7\n",
        "fd.loc[(fd['R Programming (out of 3)'] > 2) & (fd['R Programming (out of 3)'] <= 3), 'R_score'] = 10"
      ],
      "execution_count": 0,
      "outputs": []
    },
    {
      "cell_type": "code",
      "metadata": {
        "id": "UJNUOznHuh9b",
        "colab_type": "code",
        "colab": {}
      },
      "source": [
        "fd['DS_score'] = 0\n",
        "fd.loc[(fd['Data Science (out of 3)'] > 0) & (fd['Data Science (out of 3)'] <= 1), 'DS_score'] = 3\n",
        "fd.loc[(fd['Data Science (out of 3)'] > 1) & (fd['Data Science (out of 3)'] <= 2), 'DS_score'] = 7\n",
        "fd.loc[(fd['Data Science (out of 3)'] > 2) & (fd['Data Science (out of 3)'] <= 3), 'DS_score'] = 10"
      ],
      "execution_count": 0,
      "outputs": []
    },
    {
      "cell_type": "code",
      "metadata": {
        "id": "hBacvDZvummo",
        "colab_type": "code",
        "outputId": "78eaf5da-7004-405d-8629-c9e9ed749d80",
        "colab": {
          "base_uri": "https://localhost:8080/",
          "height": 255
        }
      },
      "source": [
        "print (fd[['python_score', 'R_score', 'DS_score']])"
      ],
      "execution_count": 13,
      "outputs": [
        {
          "output_type": "stream",
          "text": [
            "     python_score  R_score  DS_score\n",
            "0               3        0        10\n",
            "1               7        3         7\n",
            "2               7        0         0\n",
            "3               7        0         7\n",
            "4               7        0         0\n",
            "..            ...      ...       ...\n",
            "606             7        7         7\n",
            "607             3        0         0\n",
            "608             7        7         0\n",
            "609            10        7         7\n",
            "610             7        7         0\n",
            "\n",
            "[611 rows x 3 columns]\n"
          ],
          "name": "stdout"
        }
      ]
    },
    {
      "cell_type": "code",
      "metadata": {
        "id": "bL56R4svwdXw",
        "colab_type": "code",
        "outputId": "d5a8a8dc-da99-4ae0-9643-8f7c405e735f",
        "colab": {
          "base_uri": "https://localhost:8080/",
          "height": 221
        }
      },
      "source": [
        "fd['prg_wt'] = fd['python_score'] + fd['R_score'] + fd['DS_score']\n",
        "fd['prg_wt']"
      ],
      "execution_count": 14,
      "outputs": [
        {
          "output_type": "execute_result",
          "data": {
            "text/plain": [
              "0      13\n",
              "1      17\n",
              "2       7\n",
              "3      14\n",
              "4       7\n",
              "       ..\n",
              "606    21\n",
              "607     3\n",
              "608    14\n",
              "609    24\n",
              "610    14\n",
              "Name: prg_wt, Length: 611, dtype: int64"
            ]
          },
          "metadata": {
            "tags": []
          },
          "execution_count": 14
        }
      ]
    },
    {
      "cell_type": "code",
      "metadata": {
        "id": "JQ3XjoVAxkCD",
        "colab_type": "code",
        "colab": {}
      },
      "source": [
        "################Degree weightage#############################"
      ],
      "execution_count": 0,
      "outputs": []
    },
    {
      "cell_type": "code",
      "metadata": {
        "id": "Vn0cujmMxkwQ",
        "colab_type": "code",
        "colab": {}
      },
      "source": [
        "st = data[['Degree','Current Year Of Graduation']].copy()"
      ],
      "execution_count": 0,
      "outputs": []
    },
    {
      "cell_type": "code",
      "metadata": {
        "id": "ABWsD6eWxk-O",
        "colab_type": "code",
        "outputId": "a7b629fa-6299-4c50-e60d-f35c1f497952",
        "colab": {
          "base_uri": "https://localhost:8080/",
          "height": 419
        }
      },
      "source": [
        "st"
      ],
      "execution_count": 17,
      "outputs": [
        {
          "output_type": "execute_result",
          "data": {
            "text/html": [
              "<div>\n",
              "<style scoped>\n",
              "    .dataframe tbody tr th:only-of-type {\n",
              "        vertical-align: middle;\n",
              "    }\n",
              "\n",
              "    .dataframe tbody tr th {\n",
              "        vertical-align: top;\n",
              "    }\n",
              "\n",
              "    .dataframe thead th {\n",
              "        text-align: right;\n",
              "    }\n",
              "</style>\n",
              "<table border=\"1\" class=\"dataframe\">\n",
              "  <thead>\n",
              "    <tr style=\"text-align: right;\">\n",
              "      <th></th>\n",
              "      <th>Degree</th>\n",
              "      <th>Current Year Of Graduation</th>\n",
              "    </tr>\n",
              "  </thead>\n",
              "  <tbody>\n",
              "    <tr>\n",
              "      <th>0</th>\n",
              "      <td>Bachelor of Engineering (B.E)</td>\n",
              "      <td>2019</td>\n",
              "    </tr>\n",
              "    <tr>\n",
              "      <th>1</th>\n",
              "      <td>NaN</td>\n",
              "      <td>2020</td>\n",
              "    </tr>\n",
              "    <tr>\n",
              "      <th>2</th>\n",
              "      <td>Bachelor of Technology (B.Tech)</td>\n",
              "      <td>2018</td>\n",
              "    </tr>\n",
              "    <tr>\n",
              "      <th>3</th>\n",
              "      <td>Integrated M.Tech</td>\n",
              "      <td>2021</td>\n",
              "    </tr>\n",
              "    <tr>\n",
              "      <th>4</th>\n",
              "      <td>Bachelor of Engineering (B.E)</td>\n",
              "      <td>2018</td>\n",
              "    </tr>\n",
              "    <tr>\n",
              "      <th>...</th>\n",
              "      <td>...</td>\n",
              "      <td>...</td>\n",
              "    </tr>\n",
              "    <tr>\n",
              "      <th>606</th>\n",
              "      <td>Bachelor of Engineering (B.E)</td>\n",
              "      <td>2020</td>\n",
              "    </tr>\n",
              "    <tr>\n",
              "      <th>607</th>\n",
              "      <td>PG Diploma in Data Science</td>\n",
              "      <td>2020</td>\n",
              "    </tr>\n",
              "    <tr>\n",
              "      <th>608</th>\n",
              "      <td>Bachelor of Technology (B.Tech)</td>\n",
              "      <td>2016</td>\n",
              "    </tr>\n",
              "    <tr>\n",
              "      <th>609</th>\n",
              "      <td>Bachelor of Science (B.Sc)</td>\n",
              "      <td>2018</td>\n",
              "    </tr>\n",
              "    <tr>\n",
              "      <th>610</th>\n",
              "      <td>Master of Technology (M.Tech)</td>\n",
              "      <td>2016</td>\n",
              "    </tr>\n",
              "  </tbody>\n",
              "</table>\n",
              "<p>611 rows × 2 columns</p>\n",
              "</div>"
            ],
            "text/plain": [
              "                              Degree  Current Year Of Graduation\n",
              "0      Bachelor of Engineering (B.E)                        2019\n",
              "1                                NaN                        2020\n",
              "2    Bachelor of Technology (B.Tech)                        2018\n",
              "3                  Integrated M.Tech                        2021\n",
              "4      Bachelor of Engineering (B.E)                        2018\n",
              "..                               ...                         ...\n",
              "606    Bachelor of Engineering (B.E)                        2020\n",
              "607       PG Diploma in Data Science                        2020\n",
              "608  Bachelor of Technology (B.Tech)                        2016\n",
              "609       Bachelor of Science (B.Sc)                        2018\n",
              "610    Master of Technology (M.Tech)                        2016\n",
              "\n",
              "[611 rows x 2 columns]"
            ]
          },
          "metadata": {
            "tags": []
          },
          "execution_count": 17
        }
      ]
    },
    {
      "cell_type": "code",
      "metadata": {
        "id": "FTiVJ-GU-eb5",
        "colab_type": "code",
        "outputId": "7c1fc832-47ea-4aa0-d8b2-fb31b0b53975",
        "colab": {
          "base_uri": "https://localhost:8080/",
          "height": 493
        }
      },
      "source": [
        "st.Degree.unique()"
      ],
      "execution_count": 18,
      "outputs": [
        {
          "output_type": "execute_result",
          "data": {
            "text/plain": [
              "array(['Bachelor of Engineering (B.E)', nan,\n",
              "       'Bachelor of Technology (B.Tech)', 'Integrated M.Tech',\n",
              "       'B.Tech (Hons.)', 'Master of Business Administration_(MBA)', 'MBA',\n",
              "       'Master of Science (M.Sc)', 'Post Graduate Programme (PGP)',\n",
              "       'Master of Computer Applications (MCA)',\n",
              "       'Bachelor of Pharmacy (B.Pharm)', 'Integrated MCA',\n",
              "       'Bachelor of Commerce (B.Com)', 'Master of Technology (M.Tech)',\n",
              "       'Integrated B.Sc. & M.Sc.', 'Post Graduate Diploma',\n",
              "       'Integrated M.Sc.', 'Master of Arts (M.A.)',\n",
              "       'PG Diploma in Data Science', 'Bachelor of Science (B.Sc)',\n",
              "       'Integrated B.Tech', 'Master of Statistics (M.Stat)',\n",
              "       'Post Graduate Diploma in Management (P.G.D.M.)',\n",
              "       'Master of Engineering (M.E)', 'Master Of Analytics',\n",
              "       'Bachelor of Computer Applications (BCA)',\n",
              "       'Integrated B.S. & M.S.', 'Bachelor of Science (B.Sc) (Hons.)',\n",
              "       'Bachelor of Computer Science (B.C.S.)',\n",
              "       'Master of Science (M.S.)', 'Master of Science (M.Sc) (Hons.)',\n",
              "       'Integrated B.Tech & M.Tech', 'Integrated B.Tech & MBA',\n",
              "       'Bachelor of Mathematics (B.Math) (Hons.)',\n",
              "       'Post Graduate Diploma in Business Management (P.G.D.B.M.)',\n",
              "       'Executive MBA',\n",
              "       'Post Graduate Diploma in Big Data Analytics (PG-DBDA)',\n",
              "       'Bachelor of Engineering (B.E) (Hons.)',\n",
              "       'Bachelor of Business Management (B.B.M.)',\n",
              "       'Bachelor of Commerce (B.Com) (Hons.)',\n",
              "       'Post Graduate Program in Business Analytics',\n",
              "       'B.Com. Professional',\n",
              "       'Bachelor of Business Administration (B.B.A.)'], dtype=object)"
            ]
          },
          "metadata": {
            "tags": []
          },
          "execution_count": 18
        }
      ]
    },
    {
      "cell_type": "code",
      "metadata": {
        "id": "ulso0bPv2hey",
        "colab_type": "code",
        "outputId": "098fef56-d8c9-4545-e769-09ec3cfaeb07",
        "colab": {
          "base_uri": "https://localhost:8080/",
          "height": 419
        }
      },
      "source": [
        "st['DG_score'] = 0\n",
        "st.loc[((st['Degree'] == 'Bachelor of Technology (B.Tech)') | (st['Degree'] == 'Bachelor of Engineering (B.E)') | (st['Degree'] == 'Integrated B.Tech & M.Tech') | (st['Degree'] == 'Integrated B.Tech & MBA') | (st['Degree'] == 'Integrated B.Tech') | (st['Degree'] == 'Integrated M.Tech') | (st['Degree'] == 'Integrated B.Sc. & M.Sc.') | (st['Degree'] == 'Master of Science (M.Sc)') | (st['Degree'] == 'Master of Technology (M.Tech)') | (st['Degree'] == 'Master of Engineering (M.E)') | (st['Degree'] == 'Master of Science (M.Sc) (Hons.)') | (st['Degree'] == 'Bachelor of Engineering (B.E) (Hons.)')) & (st['Current Year Of Graduation'] >= 2020 ),'DG_score'] = 10\n",
        "st.loc[((st['Degree'] == 'Bachelor of Technology (B.Tech)') | (st['Degree'] == 'Bachelor of Engineering (B.E)') | (st['Degree'] == 'Integrated B.Tech & M.Tech') | (st['Degree'] == 'Integrated B.Tech & MBA') | (st['Degree'] == 'Integrated B.Tech') | (st['Degree'] == 'Integrated M.Tech') | (st['Degree'] == 'Integrated B.Sc. & M.Sc.') | (st['Degree'] == 'Master of Science (M.Sc)') | (st['Degree'] == 'Master of Technology (M.Tech)') | (st['Degree'] == 'Master of Engineering (M.E)') | (st['Degree'] == 'Master of Science (M.Sc) (Hons.)') | (st['Degree'] == 'Bachelor of Engineering (B.E) (Hons.)')) & (st['Current Year Of Graduation'] == 2019 ),'DG_score'] = 8\n",
        "st.loc[((st['Degree'] == 'Bachelor of Technology (B.Tech)') | (st['Degree'] == 'Bachelor of Engineering (B.E)') | (st['Degree'] == 'Integrated B.Tech & M.Tech') | (st['Degree'] == 'Integrated B.Tech & MBA') | (st['Degree'] == 'Integrated B.Tech') | (st['Degree'] == 'Integrated M.Tech') | (st['Degree'] == 'Integrated B.Sc. & M.Sc.') | (st['Degree'] == 'Master of Science (M.Sc)') | (st['Degree'] == 'Master of Technology (M.Tech)') | (st['Degree'] == 'Master of Engineering (M.E)') | (st['Degree'] == 'Master of Science (M.Sc) (Hons.)') | (st['Degree'] == 'Bachelor of Engineering (B.E) (Hons.)')) & (st['Current Year Of Graduation'] <= 2018 ),'DG_score'] = 5\n",
        "st"
      ],
      "execution_count": 19,
      "outputs": [
        {
          "output_type": "execute_result",
          "data": {
            "text/html": [
              "<div>\n",
              "<style scoped>\n",
              "    .dataframe tbody tr th:only-of-type {\n",
              "        vertical-align: middle;\n",
              "    }\n",
              "\n",
              "    .dataframe tbody tr th {\n",
              "        vertical-align: top;\n",
              "    }\n",
              "\n",
              "    .dataframe thead th {\n",
              "        text-align: right;\n",
              "    }\n",
              "</style>\n",
              "<table border=\"1\" class=\"dataframe\">\n",
              "  <thead>\n",
              "    <tr style=\"text-align: right;\">\n",
              "      <th></th>\n",
              "      <th>Degree</th>\n",
              "      <th>Current Year Of Graduation</th>\n",
              "      <th>DG_score</th>\n",
              "    </tr>\n",
              "  </thead>\n",
              "  <tbody>\n",
              "    <tr>\n",
              "      <th>0</th>\n",
              "      <td>Bachelor of Engineering (B.E)</td>\n",
              "      <td>2019</td>\n",
              "      <td>8</td>\n",
              "    </tr>\n",
              "    <tr>\n",
              "      <th>1</th>\n",
              "      <td>NaN</td>\n",
              "      <td>2020</td>\n",
              "      <td>0</td>\n",
              "    </tr>\n",
              "    <tr>\n",
              "      <th>2</th>\n",
              "      <td>Bachelor of Technology (B.Tech)</td>\n",
              "      <td>2018</td>\n",
              "      <td>5</td>\n",
              "    </tr>\n",
              "    <tr>\n",
              "      <th>3</th>\n",
              "      <td>Integrated M.Tech</td>\n",
              "      <td>2021</td>\n",
              "      <td>10</td>\n",
              "    </tr>\n",
              "    <tr>\n",
              "      <th>4</th>\n",
              "      <td>Bachelor of Engineering (B.E)</td>\n",
              "      <td>2018</td>\n",
              "      <td>5</td>\n",
              "    </tr>\n",
              "    <tr>\n",
              "      <th>...</th>\n",
              "      <td>...</td>\n",
              "      <td>...</td>\n",
              "      <td>...</td>\n",
              "    </tr>\n",
              "    <tr>\n",
              "      <th>606</th>\n",
              "      <td>Bachelor of Engineering (B.E)</td>\n",
              "      <td>2020</td>\n",
              "      <td>10</td>\n",
              "    </tr>\n",
              "    <tr>\n",
              "      <th>607</th>\n",
              "      <td>PG Diploma in Data Science</td>\n",
              "      <td>2020</td>\n",
              "      <td>0</td>\n",
              "    </tr>\n",
              "    <tr>\n",
              "      <th>608</th>\n",
              "      <td>Bachelor of Technology (B.Tech)</td>\n",
              "      <td>2016</td>\n",
              "      <td>5</td>\n",
              "    </tr>\n",
              "    <tr>\n",
              "      <th>609</th>\n",
              "      <td>Bachelor of Science (B.Sc)</td>\n",
              "      <td>2018</td>\n",
              "      <td>0</td>\n",
              "    </tr>\n",
              "    <tr>\n",
              "      <th>610</th>\n",
              "      <td>Master of Technology (M.Tech)</td>\n",
              "      <td>2016</td>\n",
              "      <td>5</td>\n",
              "    </tr>\n",
              "  </tbody>\n",
              "</table>\n",
              "<p>611 rows × 3 columns</p>\n",
              "</div>"
            ],
            "text/plain": [
              "                              Degree  Current Year Of Graduation  DG_score\n",
              "0      Bachelor of Engineering (B.E)                        2019         8\n",
              "1                                NaN                        2020         0\n",
              "2    Bachelor of Technology (B.Tech)                        2018         5\n",
              "3                  Integrated M.Tech                        2021        10\n",
              "4      Bachelor of Engineering (B.E)                        2018         5\n",
              "..                               ...                         ...       ...\n",
              "606    Bachelor of Engineering (B.E)                        2020        10\n",
              "607       PG Diploma in Data Science                        2020         0\n",
              "608  Bachelor of Technology (B.Tech)                        2016         5\n",
              "609       Bachelor of Science (B.Sc)                        2018         0\n",
              "610    Master of Technology (M.Tech)                        2016         5\n",
              "\n",
              "[611 rows x 3 columns]"
            ]
          },
          "metadata": {
            "tags": []
          },
          "execution_count": 19
        }
      ]
    },
    {
      "cell_type": "code",
      "metadata": {
        "id": "_QBdOtu-R0CK",
        "colab_type": "code",
        "colab": {
          "base_uri": "https://localhost:8080/",
          "height": 221
        },
        "outputId": "50b37a71-d29f-415d-8a5d-3a74e79ee95d"
      },
      "source": [
        "st['DG_score']"
      ],
      "execution_count": 20,
      "outputs": [
        {
          "output_type": "execute_result",
          "data": {
            "text/plain": [
              "0       8\n",
              "1       0\n",
              "2       5\n",
              "3      10\n",
              "4       5\n",
              "       ..\n",
              "606    10\n",
              "607     0\n",
              "608     5\n",
              "609     0\n",
              "610     5\n",
              "Name: DG_score, Length: 611, dtype: int64"
            ]
          },
          "metadata": {
            "tags": []
          },
          "execution_count": 20
        }
      ]
    },
    {
      "cell_type": "code",
      "metadata": {
        "id": "TEWEFX8q2Ec6",
        "colab_type": "code",
        "colab": {}
      },
      "source": [
        "################skill weightage#############################"
      ],
      "execution_count": 0,
      "outputs": []
    },
    {
      "cell_type": "code",
      "metadata": {
        "id": "Wnw2K3WCH9Hr",
        "colab_type": "code",
        "colab": {}
      },
      "source": [
        "skill = data[['Other skills']].copy()\n",
        "skill['Other skills'].fillna(\"\", inplace = True) "
      ],
      "execution_count": 0,
      "outputs": []
    },
    {
      "cell_type": "code",
      "metadata": {
        "id": "TA9JEbkkH8Kn",
        "colab_type": "code",
        "outputId": "d642d3ce-3020-469b-8417-9dd09a8f5238",
        "colab": {
          "base_uri": "https://localhost:8080/",
          "height": 51
        }
      },
      "source": [
        "skill.dtypes"
      ],
      "execution_count": 23,
      "outputs": [
        {
          "output_type": "execute_result",
          "data": {
            "text/plain": [
              "Other skills    object\n",
              "dtype: object"
            ]
          },
          "metadata": {
            "tags": []
          },
          "execution_count": 23
        }
      ]
    },
    {
      "cell_type": "code",
      "metadata": {
        "id": "_yAzY3nfpkav",
        "colab_type": "code",
        "outputId": "d4a0890c-86d8-4fe5-c4b4-77145132e933",
        "colab": {
          "base_uri": "https://localhost:8080/",
          "height": 419
        }
      },
      "source": [
        "skill"
      ],
      "execution_count": 24,
      "outputs": [
        {
          "output_type": "execute_result",
          "data": {
            "text/html": [
              "<div>\n",
              "<style scoped>\n",
              "    .dataframe tbody tr th:only-of-type {\n",
              "        vertical-align: middle;\n",
              "    }\n",
              "\n",
              "    .dataframe tbody tr th {\n",
              "        vertical-align: top;\n",
              "    }\n",
              "\n",
              "    .dataframe thead th {\n",
              "        text-align: right;\n",
              "    }\n",
              "</style>\n",
              "<table border=\"1\" class=\"dataframe\">\n",
              "  <thead>\n",
              "    <tr style=\"text-align: right;\">\n",
              "      <th></th>\n",
              "      <th>Other skills</th>\n",
              "    </tr>\n",
              "  </thead>\n",
              "  <tbody>\n",
              "    <tr>\n",
              "      <th>0</th>\n",
              "      <td>Machine Learning, Arduino, C Programming, CSS,...</td>\n",
              "    </tr>\n",
              "    <tr>\n",
              "      <th>1</th>\n",
              "      <td>AutoCAD, MS-Office, Machine Learning, Microsof...</td>\n",
              "    </tr>\n",
              "    <tr>\n",
              "      <th>2</th>\n",
              "      <td>C++ Programming, Data Structures, Image Proces...</td>\n",
              "    </tr>\n",
              "    <tr>\n",
              "      <th>3</th>\n",
              "      <td>Algorithms, C++ Programming, Data Structures, ...</td>\n",
              "    </tr>\n",
              "    <tr>\n",
              "      <th>4</th>\n",
              "      <td>MS-Word, Python, SQL, MS-Excel</td>\n",
              "    </tr>\n",
              "    <tr>\n",
              "      <th>...</th>\n",
              "      <td>...</td>\n",
              "    </tr>\n",
              "    <tr>\n",
              "      <th>606</th>\n",
              "      <td>AutoCAD, MS-Excel, Deep Learning, Machine Lear...</td>\n",
              "    </tr>\n",
              "    <tr>\n",
              "      <th>607</th>\n",
              "      <td>MS-Excel, HTML, Python, SQL</td>\n",
              "    </tr>\n",
              "    <tr>\n",
              "      <th>608</th>\n",
              "      <td>Data Analytics, Machine Learning, Natural Lang...</td>\n",
              "    </tr>\n",
              "    <tr>\n",
              "      <th>609</th>\n",
              "      <td>Data Analytics, Machine Learning, Python, C Pr...</td>\n",
              "    </tr>\n",
              "    <tr>\n",
              "      <th>610</th>\n",
              "      <td>Computer Vision, Data Analytics, Image Process...</td>\n",
              "    </tr>\n",
              "  </tbody>\n",
              "</table>\n",
              "<p>611 rows × 1 columns</p>\n",
              "</div>"
            ],
            "text/plain": [
              "                                          Other skills\n",
              "0    Machine Learning, Arduino, C Programming, CSS,...\n",
              "1    AutoCAD, MS-Office, Machine Learning, Microsof...\n",
              "2    C++ Programming, Data Structures, Image Proces...\n",
              "3    Algorithms, C++ Programming, Data Structures, ...\n",
              "4                       MS-Word, Python, SQL, MS-Excel\n",
              "..                                                 ...\n",
              "606  AutoCAD, MS-Excel, Deep Learning, Machine Lear...\n",
              "607                        MS-Excel, HTML, Python, SQL\n",
              "608  Data Analytics, Machine Learning, Natural Lang...\n",
              "609  Data Analytics, Machine Learning, Python, C Pr...\n",
              "610  Computer Vision, Data Analytics, Image Process...\n",
              "\n",
              "[611 rows x 1 columns]"
            ]
          },
          "metadata": {
            "tags": []
          },
          "execution_count": 24
        }
      ]
    },
    {
      "cell_type": "code",
      "metadata": {
        "id": "kvgMijpWqEEQ",
        "colab_type": "code",
        "colab": {}
      },
      "source": [
        "#skill['Other skills'] = skill[['Other skills']].stack().str.replace(',',' ').unstack()"
      ],
      "execution_count": 0,
      "outputs": []
    },
    {
      "cell_type": "code",
      "metadata": {
        "id": "R0kxXSB7otTS",
        "colab_type": "code",
        "colab": {}
      },
      "source": [
        "skill['Other skills'].fillna(\"\", inplace = True) "
      ],
      "execution_count": 0,
      "outputs": []
    },
    {
      "cell_type": "code",
      "metadata": {
        "id": "-ddp2Q5VE7tp",
        "colab_type": "code",
        "colab": {}
      },
      "source": [
        "#skill['Req_skill'] = skill[['Req_skill']].stack().str.replace(',',' ').unstack()"
      ],
      "execution_count": 0,
      "outputs": []
    },
    {
      "cell_type": "code",
      "metadata": {
        "id": "fdhzU8j_mjy8",
        "colab_type": "code",
        "colab": {}
      },
      "source": [
        "s = set(['Machine Learning','SQL','Data Analytics','MySQL','Deep Learning','Statistical Modeling','Neural Networks','PostgreSQL','MongoDB','(NLP)'])\n",
        "skill['new'] = skill['Other skills'].str.split(r'[^\\w]+[^\\w]').apply(lambda x: list(s.intersection(x)))\n",
        "skill['new']\n",
        "skill['new'].fillna(\"\", inplace = True) "
      ],
      "execution_count": 0,
      "outputs": []
    },
    {
      "cell_type": "code",
      "metadata": {
        "id": "xEq6Xxa7Iorm",
        "colab_type": "code",
        "colab": {}
      },
      "source": [
        "skill['count'] = ''\n",
        "skill['count'] = [len(skill['new'][i]) for i in skill.index]"
      ],
      "execution_count": 0,
      "outputs": []
    },
    {
      "cell_type": "code",
      "metadata": {
        "id": "ylJgSr0co5a0",
        "colab_type": "code",
        "outputId": "ce512781-d811-4023-92a0-12a0bb530c09",
        "colab": {
          "base_uri": "https://localhost:8080/",
          "height": 221
        }
      },
      "source": [
        "skill['count'] "
      ],
      "execution_count": 30,
      "outputs": [
        {
          "output_type": "execute_result",
          "data": {
            "text/plain": [
              "0      3\n",
              "1      3\n",
              "2      0\n",
              "3      3\n",
              "4      1\n",
              "      ..\n",
              "606    4\n",
              "607    1\n",
              "608    4\n",
              "609    6\n",
              "610    5\n",
              "Name: count, Length: 611, dtype: int64"
            ]
          },
          "metadata": {
            "tags": []
          },
          "execution_count": 30
        }
      ]
    },
    {
      "cell_type": "code",
      "metadata": {
        "id": "woPEyeegUhKU",
        "colab_type": "code",
        "colab": {
          "base_uri": "https://localhost:8080/",
          "height": 221
        },
        "outputId": "11ac8eaf-be33-4203-a2c6-a46b18ae64cf"
      },
      "source": [
        "skill['count'] = skill['count']*3\n",
        "skill['count']"
      ],
      "execution_count": 31,
      "outputs": [
        {
          "output_type": "execute_result",
          "data": {
            "text/plain": [
              "0       9\n",
              "1       9\n",
              "2       0\n",
              "3       9\n",
              "4       3\n",
              "       ..\n",
              "606    12\n",
              "607     3\n",
              "608    12\n",
              "609    18\n",
              "610    15\n",
              "Name: count, Length: 611, dtype: int64"
            ]
          },
          "metadata": {
            "tags": []
          },
          "execution_count": 31
        }
      ]
    },
    {
      "cell_type": "code",
      "metadata": {
        "id": "wDhoDfzKTm0S",
        "colab_type": "code",
        "colab": {}
      },
      "source": [
        "data['wtg'] = fd['prg_wt']+st['DG_score']+skill['count']"
      ],
      "execution_count": 0,
      "outputs": []
    },
    {
      "cell_type": "code",
      "metadata": {
        "id": "QIHc0pWhVLjY",
        "colab_type": "code",
        "colab": {
          "base_uri": "https://localhost:8080/",
          "height": 221
        },
        "outputId": "2a20e4be-a0a8-4816-eeab-cf845e0290ac"
      },
      "source": [
        "data['validate'] = ''\n",
        "data.loc[(data['wtg'] >= 40), 'validate'] = 'Congratulation ! Your profile has been shortlisted for Data Scientist.'\n",
        "data.loc[(data['wtg'] < 40), 'validate'] = 'Sorry ! Your profile did not qualify for further discussion.'\n",
        "data['validate']"
      ],
      "execution_count": 33,
      "outputs": [
        {
          "output_type": "execute_result",
          "data": {
            "text/plain": [
              "0      Sorry ! Your profile did not qualify for furth...\n",
              "1      Sorry ! Your profile did not qualify for furth...\n",
              "2      Sorry ! Your profile did not qualify for furth...\n",
              "3      Sorry ! Your profile did not qualify for furth...\n",
              "4      Sorry ! Your profile did not qualify for furth...\n",
              "                             ...                        \n",
              "606    Congratulation ! Your profile has been shortli...\n",
              "607    Sorry ! Your profile did not qualify for furth...\n",
              "608    Sorry ! Your profile did not qualify for furth...\n",
              "609    Congratulation ! Your profile has been shortli...\n",
              "610    Sorry ! Your profile did not qualify for furth...\n",
              "Name: validate, Length: 611, dtype: object"
            ]
          },
          "metadata": {
            "tags": []
          },
          "execution_count": 33
        }
      ]
    }
  ]
}