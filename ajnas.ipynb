{
  "nbformat": 4,
  "nbformat_minor": 0,
  "metadata": {
    "colab": {
      "name": "anjans.ipynb",
      "provenance": [],
      "collapsed_sections": [],
      "toc_visible": true,
      "authorship_tag": "ABX9TyP0aRB6nQ9ZU2O6HBoWdPF5",
      "include_colab_link": true
    },
    "kernelspec": {
      "name": "python3",
      "display_name": "Python 3"
    }
  },
  "cells": [
    {
      "cell_type": "markdown",
      "metadata": {
        "id": "view-in-github",
        "colab_type": "text"
      },
      "source": [
        "<a href=\"https://colab.research.google.com/github/Saran10Sk/my/blob/master/ajnas.ipynb\" target=\"_parent\"><img src=\"https://colab.research.google.com/assets/colab-badge.svg\" alt=\"Open In Colab\"/></a>"
      ]
    },
    {
      "cell_type": "code",
      "metadata": {
        "id": "Y8Sz6V6HcT48",
        "colab_type": "code",
        "outputId": "968b1729-e807-4cb7-9d4c-bc4e52ef0d1b",
        "colab": {
          "base_uri": "https://localhost:8080/",
          "height": 54
        }
      },
      "source": [
        "from google.colab import drive\n",
        "drive.mount('/content/gdrive')"
      ],
      "execution_count": 0,
      "outputs": [
        {
          "output_type": "stream",
          "text": [
            "Drive already mounted at /content/gdrive; to attempt to forcibly remount, call drive.mount(\"/content/gdrive\", force_remount=True).\n"
          ],
          "name": "stdout"
        }
      ]
    },
    {
      "cell_type": "code",
      "metadata": {
        "id": "5axCrdM3hySf",
        "colab_type": "code",
        "colab": {}
      },
      "source": [
        "import pandas as pd\n",
        "from pandas import DataFrame"
      ],
      "execution_count": 0,
      "outputs": []
    },
    {
      "cell_type": "code",
      "metadata": {
        "id": "ROThbSoYeppg",
        "colab_type": "code",
        "colab": {}
      },
      "source": [
        "data = pd.read_excel('/content/gdrive/My Drive/my_data/Data_Science_2020_v2.xlsx',engine='openpyxl')"
      ],
      "execution_count": 0,
      "outputs": []
    },
    {
      "cell_type": "code",
      "metadata": {
        "id": "HylAc5BUkGYc",
        "colab_type": "code",
        "outputId": "cbe90e64-8174-4a52-9236-e47704f59491",
        "colab": {
          "base_uri": "https://localhost:8080/",
          "height": 102
        }
      },
      "source": [
        "data.columns"
      ],
      "execution_count": 0,
      "outputs": [
        {
          "output_type": "execute_result",
          "data": {
            "text/plain": [
              "Index(['Application_ID', 'Current City', 'Python (out of 3)',\n",
              "       'R Programming (out of 3)', 'Data Science (out of 3)', 'Other skills',\n",
              "       'Institute', 'Degree', 'Stream', 'Current Year Of Graduation',\n",
              "       'Performance_PG', 'Performance_UG', 'Performance_12', 'Performance_10'],\n",
              "      dtype='object')"
            ]
          },
          "metadata": {
            "tags": []
          },
          "execution_count": 4
        }
      ]
    },
    {
      "cell_type": "code",
      "metadata": {
        "id": "Foq66HCQmwt3",
        "colab_type": "code",
        "outputId": "bd1db2d2-a748-48d5-d3c9-e898be88b906",
        "colab": {
          "base_uri": "https://localhost:8080/",
          "height": 419
        }
      },
      "source": [
        "data[['Degree','Current Year Of Graduation']]"
      ],
      "execution_count": 0,
      "outputs": [
        {
          "output_type": "execute_result",
          "data": {
            "text/html": [
              "<div>\n",
              "<style scoped>\n",
              "    .dataframe tbody tr th:only-of-type {\n",
              "        vertical-align: middle;\n",
              "    }\n",
              "\n",
              "    .dataframe tbody tr th {\n",
              "        vertical-align: top;\n",
              "    }\n",
              "\n",
              "    .dataframe thead th {\n",
              "        text-align: right;\n",
              "    }\n",
              "</style>\n",
              "<table border=\"1\" class=\"dataframe\">\n",
              "  <thead>\n",
              "    <tr style=\"text-align: right;\">\n",
              "      <th></th>\n",
              "      <th>Degree</th>\n",
              "      <th>Current Year Of Graduation</th>\n",
              "    </tr>\n",
              "  </thead>\n",
              "  <tbody>\n",
              "    <tr>\n",
              "      <th>0</th>\n",
              "      <td>Bachelor of Engineering (B.E)</td>\n",
              "      <td>2019</td>\n",
              "    </tr>\n",
              "    <tr>\n",
              "      <th>1</th>\n",
              "      <td>NaN</td>\n",
              "      <td>2020</td>\n",
              "    </tr>\n",
              "    <tr>\n",
              "      <th>2</th>\n",
              "      <td>Bachelor of Technology (B.Tech)</td>\n",
              "      <td>2018</td>\n",
              "    </tr>\n",
              "    <tr>\n",
              "      <th>3</th>\n",
              "      <td>Integrated M.Tech</td>\n",
              "      <td>2021</td>\n",
              "    </tr>\n",
              "    <tr>\n",
              "      <th>4</th>\n",
              "      <td>Bachelor of Engineering (B.E)</td>\n",
              "      <td>2018</td>\n",
              "    </tr>\n",
              "    <tr>\n",
              "      <th>...</th>\n",
              "      <td>...</td>\n",
              "      <td>...</td>\n",
              "    </tr>\n",
              "    <tr>\n",
              "      <th>606</th>\n",
              "      <td>Bachelor of Engineering (B.E)</td>\n",
              "      <td>2020</td>\n",
              "    </tr>\n",
              "    <tr>\n",
              "      <th>607</th>\n",
              "      <td>PG Diploma in Data Science</td>\n",
              "      <td>2020</td>\n",
              "    </tr>\n",
              "    <tr>\n",
              "      <th>608</th>\n",
              "      <td>Bachelor of Technology (B.Tech)</td>\n",
              "      <td>2016</td>\n",
              "    </tr>\n",
              "    <tr>\n",
              "      <th>609</th>\n",
              "      <td>Bachelor of Science (B.Sc)</td>\n",
              "      <td>2018</td>\n",
              "    </tr>\n",
              "    <tr>\n",
              "      <th>610</th>\n",
              "      <td>Master of Technology (M.Tech)</td>\n",
              "      <td>2016</td>\n",
              "    </tr>\n",
              "  </tbody>\n",
              "</table>\n",
              "<p>611 rows × 2 columns</p>\n",
              "</div>"
            ],
            "text/plain": [
              "                              Degree  Current Year Of Graduation\n",
              "0      Bachelor of Engineering (B.E)                        2019\n",
              "1                                NaN                        2020\n",
              "2    Bachelor of Technology (B.Tech)                        2018\n",
              "3                  Integrated M.Tech                        2021\n",
              "4      Bachelor of Engineering (B.E)                        2018\n",
              "..                               ...                         ...\n",
              "606    Bachelor of Engineering (B.E)                        2020\n",
              "607       PG Diploma in Data Science                        2020\n",
              "608  Bachelor of Technology (B.Tech)                        2016\n",
              "609       Bachelor of Science (B.Sc)                        2018\n",
              "610    Master of Technology (M.Tech)                        2016\n",
              "\n",
              "[611 rows x 2 columns]"
            ]
          },
          "metadata": {
            "tags": []
          },
          "execution_count": 5
        }
      ]
    },
    {
      "cell_type": "code",
      "metadata": {
        "id": "NsxSt8cIlyOc",
        "colab_type": "code",
        "colab": {}
      },
      "source": [
        "################program weightage#############################"
      ],
      "execution_count": 0,
      "outputs": []
    },
    {
      "cell_type": "code",
      "metadata": {
        "id": "QcB6yoXzmx0L",
        "colab_type": "code",
        "colab": {}
      },
      "source": [
        "fd = data[['Python (out of 3)','R Programming (out of 3)','Data Science (out of 3)']].copy()"
      ],
      "execution_count": 0,
      "outputs": []
    },
    {
      "cell_type": "code",
      "metadata": {
        "id": "WllAYy9znjeU",
        "colab_type": "code",
        "outputId": "cbddc81d-a505-4e43-8bad-7576ee024ffe",
        "colab": {
          "base_uri": "https://localhost:8080/",
          "height": 419
        }
      },
      "source": [
        "fd"
      ],
      "execution_count": 0,
      "outputs": [
        {
          "output_type": "execute_result",
          "data": {
            "text/html": [
              "<div>\n",
              "<style scoped>\n",
              "    .dataframe tbody tr th:only-of-type {\n",
              "        vertical-align: middle;\n",
              "    }\n",
              "\n",
              "    .dataframe tbody tr th {\n",
              "        vertical-align: top;\n",
              "    }\n",
              "\n",
              "    .dataframe thead th {\n",
              "        text-align: right;\n",
              "    }\n",
              "</style>\n",
              "<table border=\"1\" class=\"dataframe\">\n",
              "  <thead>\n",
              "    <tr style=\"text-align: right;\">\n",
              "      <th></th>\n",
              "      <th>Python (out of 3)</th>\n",
              "      <th>R Programming (out of 3)</th>\n",
              "      <th>Data Science (out of 3)</th>\n",
              "    </tr>\n",
              "  </thead>\n",
              "  <tbody>\n",
              "    <tr>\n",
              "      <th>0</th>\n",
              "      <td>1</td>\n",
              "      <td>0</td>\n",
              "      <td>3</td>\n",
              "    </tr>\n",
              "    <tr>\n",
              "      <th>1</th>\n",
              "      <td>2</td>\n",
              "      <td>1</td>\n",
              "      <td>2</td>\n",
              "    </tr>\n",
              "    <tr>\n",
              "      <th>2</th>\n",
              "      <td>2</td>\n",
              "      <td>0</td>\n",
              "      <td>0</td>\n",
              "    </tr>\n",
              "    <tr>\n",
              "      <th>3</th>\n",
              "      <td>2</td>\n",
              "      <td>0</td>\n",
              "      <td>2</td>\n",
              "    </tr>\n",
              "    <tr>\n",
              "      <th>4</th>\n",
              "      <td>2</td>\n",
              "      <td>0</td>\n",
              "      <td>0</td>\n",
              "    </tr>\n",
              "    <tr>\n",
              "      <th>...</th>\n",
              "      <td>...</td>\n",
              "      <td>...</td>\n",
              "      <td>...</td>\n",
              "    </tr>\n",
              "    <tr>\n",
              "      <th>606</th>\n",
              "      <td>2</td>\n",
              "      <td>2</td>\n",
              "      <td>2</td>\n",
              "    </tr>\n",
              "    <tr>\n",
              "      <th>607</th>\n",
              "      <td>1</td>\n",
              "      <td>0</td>\n",
              "      <td>0</td>\n",
              "    </tr>\n",
              "    <tr>\n",
              "      <th>608</th>\n",
              "      <td>2</td>\n",
              "      <td>2</td>\n",
              "      <td>0</td>\n",
              "    </tr>\n",
              "    <tr>\n",
              "      <th>609</th>\n",
              "      <td>3</td>\n",
              "      <td>2</td>\n",
              "      <td>2</td>\n",
              "    </tr>\n",
              "    <tr>\n",
              "      <th>610</th>\n",
              "      <td>2</td>\n",
              "      <td>2</td>\n",
              "      <td>0</td>\n",
              "    </tr>\n",
              "  </tbody>\n",
              "</table>\n",
              "<p>611 rows × 3 columns</p>\n",
              "</div>"
            ],
            "text/plain": [
              "     Python (out of 3)  R Programming (out of 3)  Data Science (out of 3)\n",
              "0                    1                         0                        3\n",
              "1                    2                         1                        2\n",
              "2                    2                         0                        0\n",
              "3                    2                         0                        2\n",
              "4                    2                         0                        0\n",
              "..                 ...                       ...                      ...\n",
              "606                  2                         2                        2\n",
              "607                  1                         0                        0\n",
              "608                  2                         2                        0\n",
              "609                  3                         2                        2\n",
              "610                  2                         2                        0\n",
              "\n",
              "[611 rows x 3 columns]"
            ]
          },
          "metadata": {
            "tags": []
          },
          "execution_count": 8
        }
      ]
    },
    {
      "cell_type": "code",
      "metadata": {
        "id": "IcqM63Eps2rp",
        "colab_type": "code",
        "outputId": "b8784f57-4f31-4ea7-b8d5-b5c492097d4d",
        "colab": {
          "base_uri": "https://localhost:8080/",
          "height": 54
        }
      },
      "source": [
        "'''\n",
        "fd['python_score'] = ''\n",
        "fd.loc[(fd['Python (out of 3)'] > 0) & (fd['Python (out of 3)'] <= 1), 'weitage'] = 3\n",
        "fd.loc[(fd['Python (out of 3)'] > 1) & (fd['Python (out of 3)'] <= 2), 'weitage'] = 7\n",
        "fd.loc[(fd['Python (out of 3)'] > 2) & (fd['Python (out of 3)'] <= 3), 'weitage'] = 10\n",
        "print (fd['python_score'])\n",
        "'''"
      ],
      "execution_count": 0,
      "outputs": [
        {
          "output_type": "execute_result",
          "data": {
            "text/plain": [
              "\"\\nfd['python_score'] = ''\\nfd.loc[(fd['Python (out of 3)'] > 0) & (fd['Python (out of 3)'] <= 1), 'weitage'] = 3\\nfd.loc[(fd['Python (out of 3)'] > 1) & (fd['Python (out of 3)'] <= 2), 'weitage'] = 7\\nfd.loc[(fd['Python (out of 3)'] > 2) & (fd['Python (out of 3)'] <= 3), 'weitage'] = 10\\nprint (fd['python_score'])\\n\""
            ]
          },
          "metadata": {
            "tags": []
          },
          "execution_count": 9
        }
      ]
    },
    {
      "cell_type": "code",
      "metadata": {
        "id": "C04kvsBAnbUp",
        "colab_type": "code",
        "colab": {}
      },
      "source": [
        "fd['python_score'] = 0\n",
        "fd.loc[(fd['Python (out of 3)'] > 0) & (fd['Python (out of 3)'] <= 1), 'python_score'] = 3\n",
        "fd.loc[(fd['Python (out of 3)'] > 1) & (fd['Python (out of 3)'] <= 2), 'python_score'] = 7\n",
        "fd.loc[(fd['Python (out of 3)'] > 2) & (fd['Python (out of 3)'] <= 3), 'python_score'] = 10"
      ],
      "execution_count": 0,
      "outputs": []
    },
    {
      "cell_type": "code",
      "metadata": {
        "id": "k7Ugzp_tucCf",
        "colab_type": "code",
        "colab": {}
      },
      "source": [
        "fd['R_score'] = 0\n",
        "fd.loc[(fd['R Programming (out of 3)'] > 0) & (fd['R Programming (out of 3)'] <= 1), 'R_score'] = 3\n",
        "fd.loc[(fd['R Programming (out of 3)'] > 1) & (fd['R Programming (out of 3)'] <= 2), 'R_score'] = 7\n",
        "fd.loc[(fd['R Programming (out of 3)'] > 2) & (fd['R Programming (out of 3)'] <= 3), 'R_score'] = 10"
      ],
      "execution_count": 0,
      "outputs": []
    },
    {
      "cell_type": "code",
      "metadata": {
        "id": "UJNUOznHuh9b",
        "colab_type": "code",
        "colab": {}
      },
      "source": [
        "fd['DS_score'] = 0\n",
        "fd.loc[(fd['Data Science (out of 3)'] > 0) & (fd['Data Science (out of 3)'] <= 1), 'DS_score'] = 3\n",
        "fd.loc[(fd['Data Science (out of 3)'] > 1) & (fd['Data Science (out of 3)'] <= 2), 'DS_score'] = 7\n",
        "fd.loc[(fd['Data Science (out of 3)'] > 2) & (fd['Data Science (out of 3)'] <= 3), 'DS_score'] = 10"
      ],
      "execution_count": 0,
      "outputs": []
    },
    {
      "cell_type": "code",
      "metadata": {
        "id": "hBacvDZvummo",
        "colab_type": "code",
        "outputId": "497b254b-0b83-4458-d9c1-0d1619541f07",
        "colab": {
          "base_uri": "https://localhost:8080/",
          "height": 255
        }
      },
      "source": [
        "print (fd[['python_score', 'R_score', 'DS_score']])"
      ],
      "execution_count": 0,
      "outputs": [
        {
          "output_type": "stream",
          "text": [
            "     python_score  R_score  DS_score\n",
            "0               3        0        10\n",
            "1               7        3         7\n",
            "2               7        0         0\n",
            "3               7        0         7\n",
            "4               7        0         0\n",
            "..            ...      ...       ...\n",
            "606             7        7         7\n",
            "607             3        0         0\n",
            "608             7        7         0\n",
            "609            10        7         7\n",
            "610             7        7         0\n",
            "\n",
            "[611 rows x 3 columns]\n"
          ],
          "name": "stdout"
        }
      ]
    },
    {
      "cell_type": "code",
      "metadata": {
        "id": "bL56R4svwdXw",
        "colab_type": "code",
        "outputId": "729752da-67db-465e-82d9-ac762c742fa0",
        "colab": {
          "base_uri": "https://localhost:8080/",
          "height": 221
        }
      },
      "source": [
        "fd['prg_wt'] = fd['python_score'] + fd['R_score'] + fd['DS_score']\n",
        "fd['prg_wt']"
      ],
      "execution_count": 0,
      "outputs": [
        {
          "output_type": "execute_result",
          "data": {
            "text/plain": [
              "0      13\n",
              "1      17\n",
              "2       7\n",
              "3      14\n",
              "4       7\n",
              "       ..\n",
              "606    21\n",
              "607     3\n",
              "608    14\n",
              "609    24\n",
              "610    14\n",
              "Name: prg_wt, Length: 611, dtype: int64"
            ]
          },
          "metadata": {
            "tags": []
          },
          "execution_count": 14
        }
      ]
    },
    {
      "cell_type": "code",
      "metadata": {
        "id": "JQ3XjoVAxkCD",
        "colab_type": "code",
        "colab": {}
      },
      "source": [
        "################Degree weightage#############################"
      ],
      "execution_count": 0,
      "outputs": []
    },
    {
      "cell_type": "code",
      "metadata": {
        "id": "Vn0cujmMxkwQ",
        "colab_type": "code",
        "colab": {}
      },
      "source": [
        "st = data[['Degree','Current Year Of Graduation']].copy()"
      ],
      "execution_count": 0,
      "outputs": []
    },
    {
      "cell_type": "code",
      "metadata": {
        "id": "ABWsD6eWxk-O",
        "colab_type": "code",
        "outputId": "359e8c4b-bac4-41ad-e23e-6c1b1d09fb71",
        "colab": {
          "base_uri": "https://localhost:8080/",
          "height": 419
        }
      },
      "source": [
        "st"
      ],
      "execution_count": 0,
      "outputs": [
        {
          "output_type": "execute_result",
          "data": {
            "text/html": [
              "<div>\n",
              "<style scoped>\n",
              "    .dataframe tbody tr th:only-of-type {\n",
              "        vertical-align: middle;\n",
              "    }\n",
              "\n",
              "    .dataframe tbody tr th {\n",
              "        vertical-align: top;\n",
              "    }\n",
              "\n",
              "    .dataframe thead th {\n",
              "        text-align: right;\n",
              "    }\n",
              "</style>\n",
              "<table border=\"1\" class=\"dataframe\">\n",
              "  <thead>\n",
              "    <tr style=\"text-align: right;\">\n",
              "      <th></th>\n",
              "      <th>Degree</th>\n",
              "      <th>Current Year Of Graduation</th>\n",
              "    </tr>\n",
              "  </thead>\n",
              "  <tbody>\n",
              "    <tr>\n",
              "      <th>0</th>\n",
              "      <td>Bachelor of Engineering (B.E)</td>\n",
              "      <td>2019</td>\n",
              "    </tr>\n",
              "    <tr>\n",
              "      <th>1</th>\n",
              "      <td>NaN</td>\n",
              "      <td>2020</td>\n",
              "    </tr>\n",
              "    <tr>\n",
              "      <th>2</th>\n",
              "      <td>Bachelor of Technology (B.Tech)</td>\n",
              "      <td>2018</td>\n",
              "    </tr>\n",
              "    <tr>\n",
              "      <th>3</th>\n",
              "      <td>Integrated M.Tech</td>\n",
              "      <td>2021</td>\n",
              "    </tr>\n",
              "    <tr>\n",
              "      <th>4</th>\n",
              "      <td>Bachelor of Engineering (B.E)</td>\n",
              "      <td>2018</td>\n",
              "    </tr>\n",
              "    <tr>\n",
              "      <th>...</th>\n",
              "      <td>...</td>\n",
              "      <td>...</td>\n",
              "    </tr>\n",
              "    <tr>\n",
              "      <th>606</th>\n",
              "      <td>Bachelor of Engineering (B.E)</td>\n",
              "      <td>2020</td>\n",
              "    </tr>\n",
              "    <tr>\n",
              "      <th>607</th>\n",
              "      <td>PG Diploma in Data Science</td>\n",
              "      <td>2020</td>\n",
              "    </tr>\n",
              "    <tr>\n",
              "      <th>608</th>\n",
              "      <td>Bachelor of Technology (B.Tech)</td>\n",
              "      <td>2016</td>\n",
              "    </tr>\n",
              "    <tr>\n",
              "      <th>609</th>\n",
              "      <td>Bachelor of Science (B.Sc)</td>\n",
              "      <td>2018</td>\n",
              "    </tr>\n",
              "    <tr>\n",
              "      <th>610</th>\n",
              "      <td>Master of Technology (M.Tech)</td>\n",
              "      <td>2016</td>\n",
              "    </tr>\n",
              "  </tbody>\n",
              "</table>\n",
              "<p>611 rows × 2 columns</p>\n",
              "</div>"
            ],
            "text/plain": [
              "                              Degree  Current Year Of Graduation\n",
              "0      Bachelor of Engineering (B.E)                        2019\n",
              "1                                NaN                        2020\n",
              "2    Bachelor of Technology (B.Tech)                        2018\n",
              "3                  Integrated M.Tech                        2021\n",
              "4      Bachelor of Engineering (B.E)                        2018\n",
              "..                               ...                         ...\n",
              "606    Bachelor of Engineering (B.E)                        2020\n",
              "607       PG Diploma in Data Science                        2020\n",
              "608  Bachelor of Technology (B.Tech)                        2016\n",
              "609       Bachelor of Science (B.Sc)                        2018\n",
              "610    Master of Technology (M.Tech)                        2016\n",
              "\n",
              "[611 rows x 2 columns]"
            ]
          },
          "metadata": {
            "tags": []
          },
          "execution_count": 17
        }
      ]
    },
    {
      "cell_type": "code",
      "metadata": {
        "id": "FTiVJ-GU-eb5",
        "colab_type": "code",
        "outputId": "98be2c69-0fd8-4b7b-a3fa-62ea1a3999a7",
        "colab": {
          "base_uri": "https://localhost:8080/",
          "height": 493
        }
      },
      "source": [
        "st.Degree.unique()"
      ],
      "execution_count": 0,
      "outputs": [
        {
          "output_type": "execute_result",
          "data": {
            "text/plain": [
              "array(['Bachelor of Engineering (B.E)', nan,\n",
              "       'Bachelor of Technology (B.Tech)', 'Integrated M.Tech',\n",
              "       'B.Tech (Hons.)', 'Master of Business Administration_(MBA)', 'MBA',\n",
              "       'Master of Science (M.Sc)', 'Post Graduate Programme (PGP)',\n",
              "       'Master of Computer Applications (MCA)',\n",
              "       'Bachelor of Pharmacy (B.Pharm)', 'Integrated MCA',\n",
              "       'Bachelor of Commerce (B.Com)', 'Master of Technology (M.Tech)',\n",
              "       'Integrated B.Sc. & M.Sc.', 'Post Graduate Diploma',\n",
              "       'Integrated M.Sc.', 'Master of Arts (M.A.)',\n",
              "       'PG Diploma in Data Science', 'Bachelor of Science (B.Sc)',\n",
              "       'Integrated B.Tech', 'Master of Statistics (M.Stat)',\n",
              "       'Post Graduate Diploma in Management (P.G.D.M.)',\n",
              "       'Master of Engineering (M.E)', 'Master Of Analytics',\n",
              "       'Bachelor of Computer Applications (BCA)',\n",
              "       'Integrated B.S. & M.S.', 'Bachelor of Science (B.Sc) (Hons.)',\n",
              "       'Bachelor of Computer Science (B.C.S.)',\n",
              "       'Master of Science (M.S.)', 'Master of Science (M.Sc) (Hons.)',\n",
              "       'Integrated B.Tech & M.Tech', 'Integrated B.Tech & MBA',\n",
              "       'Bachelor of Mathematics (B.Math) (Hons.)',\n",
              "       'Post Graduate Diploma in Business Management (P.G.D.B.M.)',\n",
              "       'Executive MBA',\n",
              "       'Post Graduate Diploma in Big Data Analytics (PG-DBDA)',\n",
              "       'Bachelor of Engineering (B.E) (Hons.)',\n",
              "       'Bachelor of Business Management (B.B.M.)',\n",
              "       'Bachelor of Commerce (B.Com) (Hons.)',\n",
              "       'Post Graduate Program in Business Analytics',\n",
              "       'B.Com. Professional',\n",
              "       'Bachelor of Business Administration (B.B.A.)'], dtype=object)"
            ]
          },
          "metadata": {
            "tags": []
          },
          "execution_count": 18
        }
      ]
    },
    {
      "cell_type": "code",
      "metadata": {
        "id": "ulso0bPv2hey",
        "colab_type": "code",
        "outputId": "cd41c8fc-5327-47d3-9da1-e9ce407f6804",
        "colab": {
          "base_uri": "https://localhost:8080/",
          "height": 419
        }
      },
      "source": [
        "st['DG_score'] = 0\n",
        "st.loc[((st['Degree'] == 'Bachelor of Technology (B.Tech)') | (st['Degree'] == 'Bachelor of Engineering (B.E)') | (st['Degree'] == 'Integrated B.Tech & M.Tech') | (st['Degree'] == 'Integrated B.Tech & MBA') | (st['Degree'] == 'Integrated B.Tech') | (st['Degree'] == 'Integrated M.Tech') | (st['Degree'] == 'Integrated B.Sc. & M.Sc.') | (st['Degree'] == 'Master of Science (M.Sc)') | (st['Degree'] == 'Master of Technology (M.Tech)') | (st['Degree'] == 'Master of Engineering (M.E)') | (st['Degree'] == 'Master of Science (M.Sc) (Hons.)') | (st['Degree'] == 'Bachelor of Engineering (B.E) (Hons.)')) & (st['Current Year Of Graduation'] >= 2020 ),'DG_score'] = 10\n",
        "st.loc[((st['Degree'] == 'Bachelor of Technology (B.Tech)') | (st['Degree'] == 'Bachelor of Engineering (B.E)') | (st['Degree'] == 'Integrated B.Tech & M.Tech') | (st['Degree'] == 'Integrated B.Tech & MBA') | (st['Degree'] == 'Integrated B.Tech') | (st['Degree'] == 'Integrated M.Tech') | (st['Degree'] == 'Integrated B.Sc. & M.Sc.') | (st['Degree'] == 'Master of Science (M.Sc)') | (st['Degree'] == 'Master of Technology (M.Tech)') | (st['Degree'] == 'Master of Engineering (M.E)') | (st['Degree'] == 'Master of Science (M.Sc) (Hons.)') | (st['Degree'] == 'Bachelor of Engineering (B.E) (Hons.)')) & (st['Current Year Of Graduation'] == 2019 ),'DG_score'] = 8\n",
        "st.loc[((st['Degree'] == 'Bachelor of Technology (B.Tech)') | (st['Degree'] == 'Bachelor of Engineering (B.E)') | (st['Degree'] == 'Integrated B.Tech & M.Tech') | (st['Degree'] == 'Integrated B.Tech & MBA') | (st['Degree'] == 'Integrated B.Tech') | (st['Degree'] == 'Integrated M.Tech') | (st['Degree'] == 'Integrated B.Sc. & M.Sc.') | (st['Degree'] == 'Master of Science (M.Sc)') | (st['Degree'] == 'Master of Technology (M.Tech)') | (st['Degree'] == 'Master of Engineering (M.E)') | (st['Degree'] == 'Master of Science (M.Sc) (Hons.)') | (st['Degree'] == 'Bachelor of Engineering (B.E) (Hons.)')) & (st['Current Year Of Graduation'] <= 2018 ),'DG_score'] = 5\n",
        "st"
      ],
      "execution_count": 0,
      "outputs": [
        {
          "output_type": "execute_result",
          "data": {
            "text/html": [
              "<div>\n",
              "<style scoped>\n",
              "    .dataframe tbody tr th:only-of-type {\n",
              "        vertical-align: middle;\n",
              "    }\n",
              "\n",
              "    .dataframe tbody tr th {\n",
              "        vertical-align: top;\n",
              "    }\n",
              "\n",
              "    .dataframe thead th {\n",
              "        text-align: right;\n",
              "    }\n",
              "</style>\n",
              "<table border=\"1\" class=\"dataframe\">\n",
              "  <thead>\n",
              "    <tr style=\"text-align: right;\">\n",
              "      <th></th>\n",
              "      <th>Degree</th>\n",
              "      <th>Current Year Of Graduation</th>\n",
              "      <th>DG_score</th>\n",
              "    </tr>\n",
              "  </thead>\n",
              "  <tbody>\n",
              "    <tr>\n",
              "      <th>0</th>\n",
              "      <td>Bachelor of Engineering (B.E)</td>\n",
              "      <td>2019</td>\n",
              "      <td>8</td>\n",
              "    </tr>\n",
              "    <tr>\n",
              "      <th>1</th>\n",
              "      <td>NaN</td>\n",
              "      <td>2020</td>\n",
              "      <td>0</td>\n",
              "    </tr>\n",
              "    <tr>\n",
              "      <th>2</th>\n",
              "      <td>Bachelor of Technology (B.Tech)</td>\n",
              "      <td>2018</td>\n",
              "      <td>5</td>\n",
              "    </tr>\n",
              "    <tr>\n",
              "      <th>3</th>\n",
              "      <td>Integrated M.Tech</td>\n",
              "      <td>2021</td>\n",
              "      <td>10</td>\n",
              "    </tr>\n",
              "    <tr>\n",
              "      <th>4</th>\n",
              "      <td>Bachelor of Engineering (B.E)</td>\n",
              "      <td>2018</td>\n",
              "      <td>5</td>\n",
              "    </tr>\n",
              "    <tr>\n",
              "      <th>...</th>\n",
              "      <td>...</td>\n",
              "      <td>...</td>\n",
              "      <td>...</td>\n",
              "    </tr>\n",
              "    <tr>\n",
              "      <th>606</th>\n",
              "      <td>Bachelor of Engineering (B.E)</td>\n",
              "      <td>2020</td>\n",
              "      <td>10</td>\n",
              "    </tr>\n",
              "    <tr>\n",
              "      <th>607</th>\n",
              "      <td>PG Diploma in Data Science</td>\n",
              "      <td>2020</td>\n",
              "      <td>0</td>\n",
              "    </tr>\n",
              "    <tr>\n",
              "      <th>608</th>\n",
              "      <td>Bachelor of Technology (B.Tech)</td>\n",
              "      <td>2016</td>\n",
              "      <td>5</td>\n",
              "    </tr>\n",
              "    <tr>\n",
              "      <th>609</th>\n",
              "      <td>Bachelor of Science (B.Sc)</td>\n",
              "      <td>2018</td>\n",
              "      <td>0</td>\n",
              "    </tr>\n",
              "    <tr>\n",
              "      <th>610</th>\n",
              "      <td>Master of Technology (M.Tech)</td>\n",
              "      <td>2016</td>\n",
              "      <td>5</td>\n",
              "    </tr>\n",
              "  </tbody>\n",
              "</table>\n",
              "<p>611 rows × 3 columns</p>\n",
              "</div>"
            ],
            "text/plain": [
              "                              Degree  Current Year Of Graduation  DG_score\n",
              "0      Bachelor of Engineering (B.E)                        2019         8\n",
              "1                                NaN                        2020         0\n",
              "2    Bachelor of Technology (B.Tech)                        2018         5\n",
              "3                  Integrated M.Tech                        2021        10\n",
              "4      Bachelor of Engineering (B.E)                        2018         5\n",
              "..                               ...                         ...       ...\n",
              "606    Bachelor of Engineering (B.E)                        2020        10\n",
              "607       PG Diploma in Data Science                        2020         0\n",
              "608  Bachelor of Technology (B.Tech)                        2016         5\n",
              "609       Bachelor of Science (B.Sc)                        2018         0\n",
              "610    Master of Technology (M.Tech)                        2016         5\n",
              "\n",
              "[611 rows x 3 columns]"
            ]
          },
          "metadata": {
            "tags": []
          },
          "execution_count": 19
        }
      ]
    },
    {
      "cell_type": "code",
      "metadata": {
        "id": "TEWEFX8q2Ec6",
        "colab_type": "code",
        "colab": {}
      },
      "source": [
        "################skill weightage#############################"
      ],
      "execution_count": 0,
      "outputs": []
    },
    {
      "cell_type": "code",
      "metadata": {
        "id": "Wnw2K3WCH9Hr",
        "colab_type": "code",
        "colab": {}
      },
      "source": [
        "sk = data[['Other skills']].copy()"
      ],
      "execution_count": 0,
      "outputs": []
    },
    {
      "cell_type": "code",
      "metadata": {
        "id": "TA9JEbkkH8Kn",
        "colab_type": "code",
        "outputId": "207ff9d1-7a76-45d9-c30a-11003c72a5d1",
        "colab": {
          "base_uri": "https://localhost:8080/",
          "height": 51
        }
      },
      "source": [
        "sk.dtypes"
      ],
      "execution_count": 0,
      "outputs": [
        {
          "output_type": "execute_result",
          "data": {
            "text/plain": [
              "Other skills    object\n",
              "dtype: object"
            ]
          },
          "metadata": {
            "tags": []
          },
          "execution_count": 22
        }
      ]
    },
    {
      "cell_type": "code",
      "metadata": {
        "id": "0OcM-O-GjJUQ",
        "colab_type": "code",
        "outputId": "6ff82041-9db4-49ae-b408-2a5ac938774f",
        "colab": {
          "base_uri": "https://localhost:8080/",
          "height": 34
        }
      },
      "source": [
        "st = ['Machine Learning','SQL','Data Analytics','MySQL','Deep Learning','Statistical Modeling','Neural Networks','PostgreSQL','MongoDB']\n",
        "type(st)"
      ],
      "execution_count": 0,
      "outputs": [
        {
          "output_type": "execute_result",
          "data": {
            "text/plain": [
              "list"
            ]
          },
          "metadata": {
            "tags": []
          },
          "execution_count": 29
        }
      ]
    },
    {
      "cell_type": "code",
      "metadata": {
        "id": "5yQ0qpWXJAT5",
        "colab_type": "code",
        "colab": {}
      },
      "source": [
        "sk['Other skills'].unique()"
      ],
      "execution_count": 0,
      "outputs": []
    },
    {
      "cell_type": "code",
      "metadata": {
        "id": "L71jwG5bAdag",
        "colab_type": "code",
        "colab": {}
      },
      "source": [
        "sk['skill'] = sk['Other skills'].astype(str)"
      ],
      "execution_count": 0,
      "outputs": []
    },
    {
      "cell_type": "code",
      "metadata": {
        "id": "-ddp2Q5VE7tp",
        "colab_type": "code",
        "colab": {
          "base_uri": "https://localhost:8080/",
          "height": 163
        },
        "outputId": "22318c3c-4db5-4240-9ae1-f1c69e618a3d"
      },
      "source": [
        ""
      ],
      "execution_count": 69,
      "outputs": [
        {
          "output_type": "error",
          "ename": "TypeError",
          "evalue": "ignored",
          "traceback": [
            "\u001b[0;31m---------------------------------------------------------------------------\u001b[0m",
            "\u001b[0;31mTypeError\u001b[0m                                 Traceback (most recent call last)",
            "\u001b[0;32m<ipython-input-69-93b80ef59865>\u001b[0m in \u001b[0;36m<module>\u001b[0;34m()\u001b[0m\n\u001b[0;32m----> 1\u001b[0;31m \u001b[0msk\u001b[0m\u001b[0;34m[\u001b[0m\u001b[0;34m'skill'\u001b[0m\u001b[0;34m]\u001b[0m\u001b[0;34m.\u001b[0m\u001b[0mdtype\u001b[0m\u001b[0;34m(\u001b[0m\u001b[0;34m)\u001b[0m\u001b[0;34m\u001b[0m\u001b[0;34m\u001b[0m\u001b[0m\n\u001b[0m",
            "\u001b[0;31mTypeError\u001b[0m: 'numpy.dtype' object is not callable"
          ]
        }
      ]
    }
  ]
}